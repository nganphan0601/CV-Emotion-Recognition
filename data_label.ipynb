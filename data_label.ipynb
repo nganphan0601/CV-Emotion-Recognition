{
 "cells": [
  {
   "cell_type": "code",
   "execution_count": 4,
   "metadata": {},
   "outputs": [],
   "source": [
    "import os\n",
    "import pandas as pd\n",
    "\n",
    "def create_labels_csv(data_dir, output_csv):\n",
    "    data = []\n",
    "\n",
    "    # Iterate through each class directory in the specified data directory\n",
    "    for class_name in os.listdir(data_dir):\n",
    "        class_dir = os.path.join(data_dir, class_name)\n",
    "        \n",
    "        if not os.path.isdir(class_dir):\n",
    "            continue\n",
    "        \n",
    "        # Iterate through each file in the class directory\n",
    "        for img_name in os.listdir(class_dir):\n",
    "            img_path = os.path.join(class_dir, img_name)\n",
    "            if os.path.isfile(img_path):\n",
    "                # Append the file path and label to the data list\n",
    "                data.append((img_path, class_name))\n",
    "\n",
    "\n",
    "    df = pd.DataFrame(data, columns=['filepath', 'label'])\n",
    "\n",
    "    df.to_csv(output_csv, index=False)\n",
    "\n",
    "train_dir = 'data/train'\n",
    "test_dir = 'data/test'\n",
    "\n",
    "train_csv = 'data/train_labels.csv'\n",
    "test_csv = 'data/test_labels.csv'\n",
    "\n",
    "create_labels_csv(train_dir, train_csv)\n",
    "create_labels_csv(test_dir, test_csv)"
   ]
  },
  {
   "cell_type": "code",
   "execution_count": null,
   "metadata": {},
   "outputs": [],
   "source": []
  }
 ],
 "metadata": {
  "kernelspec": {
   "display_name": "Python 3",
   "language": "python",
   "name": "python3"
  },
  "language_info": {
   "codemirror_mode": {
    "name": "ipython",
    "version": 3
   },
   "file_extension": ".py",
   "mimetype": "text/x-python",
   "name": "python",
   "nbconvert_exporter": "python",
   "pygments_lexer": "ipython3",
   "version": "3.9.5"
  }
 },
 "nbformat": 4,
 "nbformat_minor": 2
}
