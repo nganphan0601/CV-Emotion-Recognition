{
 "cells": [
  {
   "cell_type": "code",
   "execution_count": 1,
   "metadata": {},
   "outputs": [],
   "source": [
    "# import the necessary packages\n",
    "import cv2\n",
    "from joblib import load\n",
    "import numpy as np"
   ]
  },
  {
   "cell_type": "code",
   "execution_count": 11,
   "metadata": {},
   "outputs": [],
   "source": [
    "# create a cascade classifier object\n",
    "face_cascade = cv2.CascadeClassifier(cv2.data.haarcascades + 'haarcascade_frontalface_default.xml')\n",
    "\n",
    "emotion_dict = {0: \"Angry\", 1: \"Disgust\", 2: \"Fear\", 3: \"Happy\", 4: \"Neutral\", 5: \"Sad\", 6: \"Surprise\"}\n",
    "\n",
    "dt = load('data/testingtesting.joblib')"
   ]
  },
  {
   "cell_type": "code",
   "execution_count": null,
   "metadata": {},
   "outputs": [],
   "source": [
    "def preprocess_image(image):\n",
    "    # convert the image to grayscale\n",
    "    gray_face = cv2.cvtColor(image, cv2.COLOR_BGR2GRAY)\n",
    "    # resize the image to 48x48 pixels\n",
    "    face = cv2.resize(gray_face, (48, 48))\n",
    "    # normalize the image\n",
    "    #face = face / 255.0\n",
    "    # reshape the image to 4D tensor\n",
    "    face = face.reshape(1, 48*48)\n",
    "    return face"
   ]
  },
  {
   "cell_type": "code",
   "execution_count": 12,
   "metadata": {},
   "outputs": [],
   "source": [
    "# function to detect face\n",
    "def detect_face(img):\n",
    "    face_img = img.copy()\n",
    "    face_rects = face_cascade.detectMultiScale(face_img)\n",
    "    for (x,y,w,h) in face_rects:\n",
    "        cv2.rectangle(face_img,(x,y),(x+w,y+h),(255,255,255),10)\n",
    "        cropped_face = face_img[y:y+h, x:x+w]\n",
    "        processed_face = preprocess_image(cropped_face)\n",
    "        emotion = dt.predict(processed_face)\n",
    "        print(emotion)\n",
    "        \n",
    "        emotion_label = emotion[0]\n",
    "        cv2.putText(face_img, emotion_label, (x, y - 40), cv2.FONT_HERSHEY_SIMPLEX, 1, (33, 255, 239), 2)\n",
    "\n",
    "    return face_img"
   ]
  },
  {
   "cell_type": "code",
   "execution_count": 13,
   "metadata": {},
   "outputs": [],
   "source": [
    "# initialize the video stream and allow the camera sensor to warm up\n",
    "cap = cv2.VideoCapture(0) # 0 is the default camera\n",
    "\n",
    "while True:\n",
    "    # Capture frame-by-frame, tuple unpacking\n",
    "    ret, frame = cap.read(0) # ret is a boolean that returns true if the frame is available\n",
    "    frame = detect_face(frame)\n",
    "    cv2.imshow('frame', frame)  # display the frame\n",
    "    if cv2.waitKey(1) & 0xFF == ord('q'):  # if 'q' is pressed, break the loop\n",
    "        break\n",
    "\n",
    "# When everything done, release the capture\n",
    "cap.release()  # release the camera\n",
    "cv2.destroyAllWindows()  # close the window"
   ]
  },
  {
   "cell_type": "code",
   "execution_count": null,
   "metadata": {},
   "outputs": [],
   "source": []
  }
 ],
 "metadata": {
  "kernelspec": {
   "display_name": "Python 3",
   "language": "python",
   "name": "python3"
  },
  "language_info": {
   "codemirror_mode": {
    "name": "ipython",
    "version": 3
   },
   "file_extension": ".py",
   "mimetype": "text/x-python",
   "name": "python",
   "nbconvert_exporter": "python",
   "pygments_lexer": "ipython3",
   "version": "3.9.13"
  }
 },
 "nbformat": 4,
 "nbformat_minor": 2
}
