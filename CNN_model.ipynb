{
 "cells": [
  {
   "cell_type": "code",
   "execution_count": 7,
   "metadata": {},
   "outputs": [],
   "source": [
    "# import libraries\n",
    "from keras.models import Sequential\n",
    "from keras.layers import Conv2D, MaxPooling2D, Flatten, Dense, Dropout\n",
    "import pandas as pd\n",
    "import numpy as np\n",
    "import cv2"
   ]
  },
  {
   "cell_type": "code",
   "execution_count": 9,
   "metadata": {},
   "outputs": [
    {
     "data": {
      "text/html": [
       "<div>\n",
       "<style scoped>\n",
       "    .dataframe tbody tr th:only-of-type {\n",
       "        vertical-align: middle;\n",
       "    }\n",
       "\n",
       "    .dataframe tbody tr th {\n",
       "        vertical-align: top;\n",
       "    }\n",
       "\n",
       "    .dataframe thead th {\n",
       "        text-align: right;\n",
       "    }\n",
       "</style>\n",
       "<table border=\"1\" class=\"dataframe\">\n",
       "  <thead>\n",
       "    <tr style=\"text-align: right;\">\n",
       "      <th></th>\n",
       "      <th>filepath</th>\n",
       "      <th>label</th>\n",
       "    </tr>\n",
       "  </thead>\n",
       "  <tbody>\n",
       "    <tr>\n",
       "      <th>0</th>\n",
       "      <td>data/train\\angry\\aug_0_100.jpeg</td>\n",
       "      <td>angry</td>\n",
       "    </tr>\n",
       "    <tr>\n",
       "      <th>1</th>\n",
       "      <td>data/train\\angry\\aug_0_1000.jpeg</td>\n",
       "      <td>angry</td>\n",
       "    </tr>\n",
       "    <tr>\n",
       "      <th>2</th>\n",
       "      <td>data/train\\angry\\aug_0_1012.jpeg</td>\n",
       "      <td>angry</td>\n",
       "    </tr>\n",
       "    <tr>\n",
       "      <th>3</th>\n",
       "      <td>data/train\\angry\\aug_0_1013.jpeg</td>\n",
       "      <td>angry</td>\n",
       "    </tr>\n",
       "    <tr>\n",
       "      <th>4</th>\n",
       "      <td>data/train\\angry\\aug_0_1015.jpeg</td>\n",
       "      <td>angry</td>\n",
       "    </tr>\n",
       "  </tbody>\n",
       "</table>\n",
       "</div>"
      ],
      "text/plain": [
       "                           filepath  label\n",
       "0   data/train\\angry\\aug_0_100.jpeg  angry\n",
       "1  data/train\\angry\\aug_0_1000.jpeg  angry\n",
       "2  data/train\\angry\\aug_0_1012.jpeg  angry\n",
       "3  data/train\\angry\\aug_0_1013.jpeg  angry\n",
       "4  data/train\\angry\\aug_0_1015.jpeg  angry"
      ]
     },
     "execution_count": 9,
     "metadata": {},
     "output_type": "execute_result"
    }
   ],
   "source": [
    "# load dataset\n",
    "\n",
    "from tensorflow.keras.preprocessing.image import ImageDataGenerator\n",
    "train_data = pd.read_csv('data/train_labels.csv')\n",
    "train_data.head()"
   ]
  },
  {
   "cell_type": "code",
   "execution_count": 10,
   "metadata": {},
   "outputs": [
    {
     "data": {
      "text/html": [
       "<div>\n",
       "<style scoped>\n",
       "    .dataframe tbody tr th:only-of-type {\n",
       "        vertical-align: middle;\n",
       "    }\n",
       "\n",
       "    .dataframe tbody tr th {\n",
       "        vertical-align: top;\n",
       "    }\n",
       "\n",
       "    .dataframe thead th {\n",
       "        text-align: right;\n",
       "    }\n",
       "</style>\n",
       "<table border=\"1\" class=\"dataframe\">\n",
       "  <thead>\n",
       "    <tr style=\"text-align: right;\">\n",
       "      <th></th>\n",
       "      <th>filepath</th>\n",
       "      <th>label</th>\n",
       "    </tr>\n",
       "  </thead>\n",
       "  <tbody>\n",
       "    <tr>\n",
       "      <th>0</th>\n",
       "      <td>data/test\\angry\\aug_0_1012.jpeg</td>\n",
       "      <td>angry</td>\n",
       "    </tr>\n",
       "    <tr>\n",
       "      <th>1</th>\n",
       "      <td>data/test\\angry\\aug_0_1033.jpeg</td>\n",
       "      <td>angry</td>\n",
       "    </tr>\n",
       "    <tr>\n",
       "      <th>2</th>\n",
       "      <td>data/test\\angry\\aug_0_1067.jpeg</td>\n",
       "      <td>angry</td>\n",
       "    </tr>\n",
       "    <tr>\n",
       "      <th>3</th>\n",
       "      <td>data/test\\angry\\aug_0_1073.jpeg</td>\n",
       "      <td>angry</td>\n",
       "    </tr>\n",
       "    <tr>\n",
       "      <th>4</th>\n",
       "      <td>data/test\\angry\\aug_0_108.jpeg</td>\n",
       "      <td>angry</td>\n",
       "    </tr>\n",
       "  </tbody>\n",
       "</table>\n",
       "</div>"
      ],
      "text/plain": [
       "                          filepath  label\n",
       "0  data/test\\angry\\aug_0_1012.jpeg  angry\n",
       "1  data/test\\angry\\aug_0_1033.jpeg  angry\n",
       "2  data/test\\angry\\aug_0_1067.jpeg  angry\n",
       "3  data/test\\angry\\aug_0_1073.jpeg  angry\n",
       "4   data/test\\angry\\aug_0_108.jpeg  angry"
      ]
     },
     "execution_count": 10,
     "metadata": {},
     "output_type": "execute_result"
    }
   ],
   "source": [
    "test_data = pd.read_csv('data/test_labels.csv')\n",
    "test_data.head()"
   ]
  },
  {
   "cell_type": "code",
   "execution_count": 14,
   "metadata": {},
   "outputs": [
    {
     "name": "stdout",
     "output_type": "stream",
     "text": [
      "(46506, 48, 48)\n",
      "(12141, 48, 48)\n"
     ]
    }
   ],
   "source": [
    "# Function to load images\n",
    "def load_images(filepaths):\n",
    "    images = []\n",
    "    for filepath in filepaths:\n",
    "        image = cv2.imread(filepath)\n",
    "        image = cv2.cvtColor(image, cv2.COLOR_BGR2GRAY)\n",
    "        images.append(image)\n",
    "    return np.array(images)\n",
    "\n",
    "# Load images\n",
    "train_images = load_images(train_data['filepath'])\n",
    "print(train_images.shape)\n",
    "test_images = load_images(test_data['filepath'])\n",
    "print(test_images.shape)"
   ]
  },
  {
   "cell_type": "code",
   "execution_count": 19,
   "metadata": {},
   "outputs": [
    {
     "data": {
      "text/plain": [
       "array([[[0.0627451 , 0.12156863, 0.19215686, ..., 0.62745098,\n",
       "         0.63529412, 0.63529412],\n",
       "        [0.05098039, 0.11764706, 0.20784314, ..., 0.6745098 ,\n",
       "         0.68235294, 0.68627451],\n",
       "        [0.04313725, 0.09411765, 0.19215686, ..., 0.71764706,\n",
       "         0.7254902 , 0.72941176],\n",
       "        ...,\n",
       "        [0.23529412, 0.25098039, 0.25882353, ..., 0.7372549 ,\n",
       "         0.66666667, 0.67058824],\n",
       "        [0.23137255, 0.24705882, 0.25490196, ..., 0.76862745,\n",
       "         0.67843137, 0.66666667],\n",
       "        [0.23137255, 0.24313725, 0.24705882, ..., 0.78823529,\n",
       "         0.68627451, 0.65882353]],\n",
       "\n",
       "       [[0.18823529, 0.24705882, 0.26666667, ..., 0.51372549,\n",
       "         0.50588235, 0.49803922],\n",
       "        [0.23137255, 0.18431373, 0.19607843, ..., 0.49411765,\n",
       "         0.48235294, 0.47058824],\n",
       "        [0.21176471, 0.21960784, 0.21568627, ..., 0.49803922,\n",
       "         0.50196078, 0.50588235],\n",
       "        ...,\n",
       "        [0.54117647, 0.60392157, 0.65882353, ..., 0.23529412,\n",
       "         0.23137255, 0.23137255],\n",
       "        [0.57647059, 0.62745098, 0.67843137, ..., 0.23137255,\n",
       "         0.23137255, 0.23137255],\n",
       "        [0.58823529, 0.63529412, 0.69803922, ..., 0.23137255,\n",
       "         0.23137255, 0.23137255]],\n",
       "\n",
       "       [[0.        , 0.        , 0.        , ..., 0.        ,\n",
       "         0.        , 0.        ],\n",
       "        [0.        , 0.        , 0.        , ..., 0.        ,\n",
       "         0.        , 0.        ],\n",
       "        [0.        , 0.        , 0.        , ..., 0.        ,\n",
       "         0.        , 0.        ],\n",
       "        ...,\n",
       "        [0.        , 0.        , 0.        , ..., 0.        ,\n",
       "         0.        , 0.        ],\n",
       "        [0.        , 0.        , 0.        , ..., 0.        ,\n",
       "         0.        , 0.        ],\n",
       "        [0.        , 0.        , 0.        , ..., 0.        ,\n",
       "         0.        , 0.        ]],\n",
       "\n",
       "       ...,\n",
       "\n",
       "       [[0.48627451, 0.50588235, 0.49019608, ..., 0.52156863,\n",
       "         0.51372549, 0.49803922],\n",
       "        [0.51372549, 0.50980392, 0.50980392, ..., 0.52156863,\n",
       "         0.5254902 , 0.51372549],\n",
       "        [0.55294118, 0.54509804, 0.55294118, ..., 0.54117647,\n",
       "         0.54509804, 0.5372549 ],\n",
       "        ...,\n",
       "        [0.05098039, 0.03137255, 0.14509804, ..., 0.65882353,\n",
       "         0.78431373, 1.        ],\n",
       "        [0.02745098, 0.02352941, 0.02352941, ..., 0.81960784,\n",
       "         0.90588235, 0.99607843],\n",
       "        [0.02745098, 0.        , 0.00392157, ..., 0.98039216,\n",
       "         0.95294118, 0.98431373]],\n",
       "\n",
       "       [[0.94901961, 0.94901961, 0.94901961, ..., 0.74901961,\n",
       "         0.89803922, 0.85882353],\n",
       "        [0.95686275, 0.92941176, 0.96078431, ..., 0.3372549 ,\n",
       "         0.91372549, 0.87058824],\n",
       "        [0.94901961, 0.95294118, 0.97254902, ..., 0.02352941,\n",
       "         0.68627451, 0.90980392],\n",
       "        ...,\n",
       "        [0.7372549 , 0.76862745, 0.80784314, ..., 0.78823529,\n",
       "         0.80392157, 0.83921569],\n",
       "        [0.83921569, 0.83529412, 0.85098039, ..., 0.74117647,\n",
       "         0.8       , 0.82745098],\n",
       "        [0.87058824, 0.8627451 , 0.87058824, ..., 0.66666667,\n",
       "         0.76470588, 0.79607843]],\n",
       "\n",
       "       [[0.76078431, 0.77254902, 0.74901961, ..., 0.88235294,\n",
       "         0.96078431, 1.        ],\n",
       "        [0.74901961, 0.74901961, 0.69411765, ..., 0.86666667,\n",
       "         0.92941176, 0.98431373],\n",
       "        [0.7254902 , 0.7254902 , 0.65490196, ..., 0.85098039,\n",
       "         0.90196078, 0.96862745],\n",
       "        ...,\n",
       "        [1.        , 0.95686275, 0.71764706, ..., 0.99215686,\n",
       "         1.        , 1.        ],\n",
       "        [0.98823529, 0.83529412, 0.7254902 , ..., 0.99215686,\n",
       "         1.        , 1.        ],\n",
       "        [0.91372549, 0.74509804, 0.7372549 , ..., 1.        ,\n",
       "         1.        , 1.        ]]])"
      ]
     },
     "execution_count": 19,
     "metadata": {},
     "output_type": "execute_result"
    }
   ],
   "source": [
    "# Normalize images\n",
    "train_images = train_images / 255.0\n",
    "test_images = test_images / 255.0\n",
    "train_images"
   ]
  },
  {
   "cell_type": "code",
   "execution_count": 26,
   "metadata": {},
   "outputs": [
    {
     "data": {
      "text/plain": [
       "(46506, 48, 48, 1)"
      ]
     },
     "execution_count": 26,
     "metadata": {},
     "output_type": "execute_result"
    }
   ],
   "source": [
    "# Reshape images\n",
    "train_images = train_images.reshape(train_images.shape[0], 48, 48, 1)\n",
    "test_images = test_images.reshape(test_images.shape[0], 48, 48, 1)\n",
    "train_images.shape"
   ]
  },
  {
   "cell_type": "code",
   "execution_count": 17,
   "metadata": {},
   "outputs": [
    {
     "name": "stdout",
     "output_type": "stream",
     "text": [
      "(46506, 7)\n",
      "(12141, 7)\n"
     ]
    }
   ],
   "source": [
    "# convert the labels to one-hot encoding\n",
    "from keras.utils.np_utils import to_categorical\n",
    "from sklearn.preprocessing import LabelEncoder\n",
    "\n",
    "label_encoder = LabelEncoder()\n",
    "train_labels = label_encoder.fit_transform(train_data['label'])\n",
    "train_labels = to_categorical(train_labels, 7)\n",
    "print(train_labels.shape)\n",
    "\n",
    "test_labels = label_encoder.fit_transform(test_data['label'])\n",
    "test_labels = to_categorical(test_labels, 7)\n",
    "print(test_labels.shape)"
   ]
  },
  {
   "cell_type": "code",
   "execution_count": 24,
   "metadata": {},
   "outputs": [
    {
     "data": {
      "text/plain": [
       "<matplotlib.image.AxesImage at 0x17e817a4310>"
      ]
     },
     "execution_count": 24,
     "metadata": {},
     "output_type": "execute_result"
    },
    {
     "data": {
      "image/png": "[encoded data removed]",
      "text/plain": [
       "<Figure size 640x480 with 1 Axes>"
      ]
     },
     "metadata": {},
     "output_type": "display_data"
    }
   ],
   "source": [
    "import matplotlib.pyplot as plt\n",
    "plt.imshow(train_images[16505], cmap='gray')"
   ]
  },
  {
   "cell_type": "code",
   "execution_count": null,
   "metadata": {},
   "outputs": [],
   "source": [
    "# build model\n",
    "cnn = Sequential()\n"
   ]
  },
  {
   "cell_type": "code",
   "execution_count": null,
   "metadata": {},
   "outputs": [],
   "source": [
    "# input layer: takes the raw image data as input"
   ]
  },
  {
   "cell_type": "code",
   "execution_count": null,
   "metadata": {},
   "outputs": [],
   "source": [
    "# convolutional layer: feature extraction"
   ]
  },
  {
   "cell_type": "code",
   "execution_count": null,
   "metadata": {},
   "outputs": [],
   "source": [
    "# pooling layer: reduce the dimensionality of the feature map"
   ]
  },
  {
   "cell_type": "code",
   "execution_count": null,
   "metadata": {},
   "outputs": [],
   "source": [
    "# train model"
   ]
  }
 ],
 "metadata": {
  "kernelspec": {
   "display_name": "base",
   "language": "python",
   "name": "python3"
  },
  "language_info": {
   "codemirror_mode": {
    "name": "ipython",
    "version": 3
   },
   "file_extension": ".py",
   "mimetype": "text/x-python",
   "name": "python",
   "nbconvert_exporter": "python",
   "pygments_lexer": "ipython3",
   "version": "2022.10.undefined"
  }
 },
 "nbformat": 4,
 "nbformat_minor": 2
}
