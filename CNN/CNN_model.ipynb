{
 "cells": [
  {
   "cell_type": "code",
   "execution_count": 2,
   "metadata": {},
   "outputs": [
    {
     "name": "stdout",
     "output_type": "stream",
     "text": [
      "Requirement already satisfied: tensorflow in c:\\users\\asus\\appdata\\roaming\\python\\python39\\site-packages (2.12.0)\n",
      "Collecting tensorflow\n",
      "  Downloading tensorflow-2.16.1-cp39-cp39-win_amd64.whl.metadata (3.5 kB)\n",
      "Collecting tensorflow-intel==2.16.1 (from tensorflow)\n",
      "  Downloading tensorflow_intel-2.16.1-cp39-cp39-win_amd64.whl.metadata (5.0 kB)\n",
      "Requirement already satisfied: absl-py>=1.0.0 in c:\\users\\asus\\appdata\\roaming\\python\\python39\\site-packages (from tensorflow-intel==2.16.1->tensorflow) (1.4.0)\n",
      "Requirement already satisfied: astunparse>=1.6.0 in c:\\users\\asus\\appdata\\roaming\\python\\python39\\site-packages (from tensorflow-intel==2.16.1->tensorflow) (1.6.3)\n",
      "Collecting flatbuffers>=23.5.26 (from tensorflow-intel==2.16.1->tensorflow)\n",
      "  Using cached flatbuffers-24.3.25-py2.py3-none-any.whl.metadata (850 bytes)\n",
      "Requirement already satisfied: gast!=0.5.0,!=0.5.1,!=0.5.2,>=0.2.1 in c:\\users\\asus\\appdata\\roaming\\python\\python39\\site-packages (from tensorflow-intel==2.16.1->tensorflow) (0.4.0)\n",
      "Requirement already satisfied: google-pasta>=0.1.1 in c:\\users\\asus\\appdata\\roaming\\python\\python39\\site-packages (from tensorflow-intel==2.16.1->tensorflow) (0.2.0)\n",
      "Requirement already satisfied: h5py>=3.10.0 in c:\\users\\asus\\appdata\\roaming\\python\\python39\\site-packages (from tensorflow-intel==2.16.1->tensorflow) (3.11.0)\n",
      "Requirement already satisfied: libclang>=13.0.0 in c:\\users\\asus\\appdata\\roaming\\python\\python39\\site-packages (from tensorflow-intel==2.16.1->tensorflow) (16.0.0)\n",
      "Collecting ml-dtypes~=0.3.1 (from tensorflow-intel==2.16.1->tensorflow)\n",
      "  Downloading ml_dtypes-0.3.2-cp39-cp39-win_amd64.whl.metadata (20 kB)\n",
      "Requirement already satisfied: opt-einsum>=2.3.2 in c:\\users\\asus\\appdata\\roaming\\python\\python39\\site-packages (from tensorflow-intel==2.16.1->tensorflow) (3.3.0)\n",
      "Requirement already satisfied: packaging in c:\\users\\asus\\appdata\\roaming\\python\\python39\\site-packages (from tensorflow-intel==2.16.1->tensorflow) (23.1)\n",
      "Requirement already satisfied: protobuf!=4.21.0,!=4.21.1,!=4.21.2,!=4.21.3,!=4.21.4,!=4.21.5,<5.0.0dev,>=3.20.3 in c:\\users\\asus\\appdata\\roaming\\python\\python39\\site-packages (from tensorflow-intel==2.16.1->tensorflow) (4.25.3)\n",
      "Requirement already satisfied: requests<3,>=2.21.0 in c:\\users\\asus\\appdata\\roaming\\python\\python39\\site-packages (from tensorflow-intel==2.16.1->tensorflow) (2.28.2)\n",
      "Requirement already satisfied: setuptools in c:\\users\\asus\\.conda\\envs\\tf_env\\lib\\site-packages (from tensorflow-intel==2.16.1->tensorflow) (69.5.1)\n",
      "Requirement already satisfied: six>=1.12.0 in c:\\users\\asus\\appdata\\roaming\\python\\python39\\site-packages (from tensorflow-intel==2.16.1->tensorflow) (1.16.0)\n",
      "Requirement already satisfied: termcolor>=1.1.0 in c:\\users\\asus\\appdata\\roaming\\python\\python39\\site-packages (from tensorflow-intel==2.16.1->tensorflow) (2.3.0)\n",
      "Requirement already satisfied: typing-extensions>=3.6.6 in c:\\users\\asus\\.conda\\envs\\tf_env\\lib\\site-packages (from tensorflow-intel==2.16.1->tensorflow) (4.12.2)\n",
      "Requirement already satisfied: wrapt>=1.11.0 in c:\\users\\asus\\appdata\\roaming\\python\\python39\\site-packages (from tensorflow-intel==2.16.1->tensorflow) (1.14.1)\n",
      "Requirement already satisfied: grpcio<2.0,>=1.24.3 in c:\\users\\asus\\appdata\\roaming\\python\\python39\\site-packages (from tensorflow-intel==2.16.1->tensorflow) (1.54.2)\n",
      "Collecting tensorboard<2.17,>=2.16 (from tensorflow-intel==2.16.1->tensorflow)\n",
      "  Using cached tensorboard-2.16.2-py3-none-any.whl.metadata (1.6 kB)\n",
      "Collecting keras>=3.0.0 (from tensorflow-intel==2.16.1->tensorflow)\n",
      "  Using cached keras-3.3.3-py3-none-any.whl.metadata (5.7 kB)\n",
      "Requirement already satisfied: tensorflow-io-gcs-filesystem>=0.23.1 in c:\\users\\asus\\appdata\\roaming\\python\\python39\\site-packages (from tensorflow-intel==2.16.1->tensorflow) (0.31.0)\n",
      "Requirement already satisfied: numpy<2.0.0,>=1.23.5 in c:\\users\\asus\\appdata\\roaming\\python\\python39\\site-packages (from tensorflow-intel==2.16.1->tensorflow) (1.23.5)\n",
      "Requirement already satisfied: wheel<1.0,>=0.23.0 in c:\\users\\asus\\appdata\\roaming\\python\\python39\\site-packages (from astunparse>=1.6.0->tensorflow-intel==2.16.1->tensorflow) (0.40.0)\n",
      "Requirement already satisfied: rich in c:\\users\\asus\\appdata\\roaming\\python\\python39\\site-packages (from keras>=3.0.0->tensorflow-intel==2.16.1->tensorflow) (13.7.1)\n",
      "Requirement already satisfied: namex in c:\\users\\asus\\appdata\\roaming\\python\\python39\\site-packages (from keras>=3.0.0->tensorflow-intel==2.16.1->tensorflow) (0.0.8)\n",
      "Requirement already satisfied: optree in c:\\users\\asus\\appdata\\roaming\\python\\python39\\site-packages (from keras>=3.0.0->tensorflow-intel==2.16.1->tensorflow) (0.11.0)\n",
      "Requirement already satisfied: charset-normalizer<4,>=2 in c:\\users\\asus\\appdata\\roaming\\python\\python39\\site-packages (from requests<3,>=2.21.0->tensorflow-intel==2.16.1->tensorflow) (3.1.0)\n",
      "Requirement already satisfied: idna<4,>=2.5 in c:\\users\\asus\\appdata\\roaming\\python\\python39\\site-packages (from requests<3,>=2.21.0->tensorflow-intel==2.16.1->tensorflow) (3.4)\n",
      "Requirement already satisfied: urllib3<1.27,>=1.21.1 in c:\\users\\asus\\appdata\\roaming\\python\\python39\\site-packages (from requests<3,>=2.21.0->tensorflow-intel==2.16.1->tensorflow) (1.26.15)\n",
      "Requirement already satisfied: certifi>=2017.4.17 in c:\\users\\asus\\appdata\\roaming\\python\\python39\\site-packages (from requests<3,>=2.21.0->tensorflow-intel==2.16.1->tensorflow) (2022.12.7)\n",
      "Requirement already satisfied: markdown>=2.6.8 in c:\\users\\asus\\appdata\\roaming\\python\\python39\\site-packages (from tensorboard<2.17,>=2.16->tensorflow-intel==2.16.1->tensorflow) (3.6)\n",
      "Requirement already satisfied: tensorboard-data-server<0.8.0,>=0.7.0 in c:\\users\\asus\\appdata\\roaming\\python\\python39\\site-packages (from tensorboard<2.17,>=2.16->tensorflow-intel==2.16.1->tensorflow) (0.7.2)\n",
      "Requirement already satisfied: werkzeug>=1.0.1 in c:\\users\\asus\\.conda\\envs\\tf_env\\lib\\site-packages (from tensorboard<2.17,>=2.16->tensorflow-intel==2.16.1->tensorflow) (3.0.3)\n",
      "Requirement already satisfied: importlib-metadata>=4.4 in c:\\users\\asus\\appdata\\roaming\\python\\python39\\site-packages (from markdown>=2.6.8->tensorboard<2.17,>=2.16->tensorflow-intel==2.16.1->tensorflow) (6.6.0)\n",
      "Requirement already satisfied: MarkupSafe>=2.1.1 in c:\\users\\asus\\appdata\\roaming\\python\\python39\\site-packages (from werkzeug>=1.0.1->tensorboard<2.17,>=2.16->tensorflow-intel==2.16.1->tensorflow) (2.1.2)\n",
      "Requirement already satisfied: markdown-it-py>=2.2.0 in c:\\users\\asus\\appdata\\roaming\\python\\python39\\site-packages (from rich->keras>=3.0.0->tensorflow-intel==2.16.1->tensorflow) (3.0.0)\n",
      "Requirement already satisfied: pygments<3.0.0,>=2.13.0 in c:\\users\\asus\\appdata\\roaming\\python\\python39\\site-packages (from rich->keras>=3.0.0->tensorflow-intel==2.16.1->tensorflow) (2.15.1)\n",
      "Requirement already satisfied: zipp>=0.5 in c:\\users\\asus\\appdata\\roaming\\python\\python39\\site-packages (from importlib-metadata>=4.4->markdown>=2.6.8->tensorboard<2.17,>=2.16->tensorflow-intel==2.16.1->tensorflow) (3.15.0)\n",
      "Requirement already satisfied: mdurl~=0.1 in c:\\users\\asus\\appdata\\roaming\\python\\python39\\site-packages (from markdown-it-py>=2.2.0->rich->keras>=3.0.0->tensorflow-intel==2.16.1->tensorflow) (0.1.2)\n",
      "Downloading tensorflow-2.16.1-cp39-cp39-win_amd64.whl (2.1 kB)\n",
      "Downloading tensorflow_intel-2.16.1-cp39-cp39-win_amd64.whl (376.9 MB)\n",
      "   ---------------------------------------- 0.0/376.9 MB ? eta -:--:--\n",
      "   ---------------------------------------- 0.2/376.9 MB 3.9 MB/s eta 0:01:37\n",
      "   ---------------------------------------- 1.0/376.9 MB 10.6 MB/s eta 0:00:36\n",
      "   ---------------------------------------- 2.6/376.9 MB 18.3 MB/s eta 0:00:21\n",
      "    --------------------------------------- 5.6/376.9 MB 30.0 MB/s eta 0:00:13\n",
      "    --------------------------------------- 8.3/376.9 MB 37.7 MB/s eta 0:00:10\n",
      "   - -------------------------------------- 11.6/376.9 MB 65.2 MB/s eta 0:00:06\n",
      "   - -------------------------------------- 12.7/376.9 MB 73.1 MB/s eta 0:00:05\n",
      "   - -------------------------------------- 12.7/376.9 MB 73.1 MB/s eta 0:00:05\n",
      "   - -------------------------------------- 15.6/376.9 MB 43.7 MB/s eta 0:00:09\n",
      "   - -------------------------------------- 15.6/376.9 MB 43.7 MB/s eta 0:00:09\n",
      "   - -------------------------------------- 15.6/376.9 MB 43.7 MB/s eta 0:00:09\n",
      "   - -------------------------------------- 15.6/376.9 MB 43.7 MB/s eta 0:00:09\n",
      "   - -------------------------------------- 15.6/376.9 MB 43.7 MB/s eta 0:00:09\n",
      "   - -------------------------------------- 15.6/376.9 MB 43.7 MB/s eta 0:00:09\n",
      "   - -------------------------------------- 15.6/376.9 MB 43.7 MB/s eta 0:00:09\n",
      "   - -------------------------------------- 15.6/376.9 MB 43.7 MB/s eta 0:00:09\n",
      "   - -------------------------------------- 15.6/376.9 MB 43.7 MB/s eta 0:00:09\n",
      "   - -------------------------------------- 15.6/376.9 MB 43.7 MB/s eta 0:00:09\n",
      "   - -------------------------------------- 15.6/376.9 MB 43.7 MB/s eta 0:00:09\n",
      "   - -------------------------------------- 16.1/376.9 MB 14.2 MB/s eta 0:00:26\n",
      "   -- ------------------------------------- 21.8/376.9 MB 14.9 MB/s eta 0:00:24\n",
      "   -- ------------------------------------- 24.7/376.9 MB 16.8 MB/s eta 0:00:21\n",
      "   -- ------------------------------------- 25.9/376.9 MB 16.0 MB/s eta 0:00:22\n",
      "   -- ------------------------------------- 27.6/376.9 MB 59.5 MB/s eta 0:00:06\n",
      "   --- ------------------------------------ 28.9/376.9 MB 50.4 MB/s eta 0:00:07\n",
      "   --- ------------------------------------ 30.9/376.9 MB 40.9 MB/s eta 0:00:09\n",
      "   --- ------------------------------------ 32.8/376.9 MB 38.5 MB/s eta 0:00:09\n",
      "   --- ------------------------------------ 32.8/376.9 MB 36.4 MB/s eta 0:00:10\n",
      "   --- ------------------------------------ 32.8/376.9 MB 36.4 MB/s eta 0:00:10\n",
      "   --- ------------------------------------ 32.8/376.9 MB 36.4 MB/s eta 0:00:10\n",
      "   --- ------------------------------------ 32.8/376.9 MB 36.4 MB/s eta 0:00:10\n",
      "   --- ------------------------------------ 33.7/376.9 MB 20.5 MB/s eta 0:00:17\n",
      "   ---- ----------------------------------- 38.9/376.9 MB 27.3 MB/s eta 0:00:13\n",
      "   ---- ----------------------------------- 42.0/376.9 MB 31.2 MB/s eta 0:00:11\n",
      "   ---- ----------------------------------- 43.7/376.9 MB 81.8 MB/s eta 0:00:05\n",
      "   ---- ----------------------------------- 45.5/376.9 MB 73.1 MB/s eta 0:00:05\n",
      "   ---- ----------------------------------- 46.4/376.9 MB 54.7 MB/s eta 0:00:07\n",
      "   ----- ---------------------------------- 47.1/376.9 MB 50.4 MB/s eta 0:00:07\n",
      "   ----- ---------------------------------- 47.1/376.9 MB 50.4 MB/s eta 0:00:07\n",
      "   ----- ---------------------------------- 49.0/376.9 MB 32.7 MB/s eta 0:00:11\n",
      "   ----- ---------------------------------- 52.4/376.9 MB 34.4 MB/s eta 0:00:10\n",
      "   ----- ---------------------------------- 53.9/376.9 MB 32.7 MB/s eta 0:00:10\n",
      "   ------ --------------------------------- 56.5/376.9 MB 38.5 MB/s eta 0:00:09\n",
      "   ------ --------------------------------- 59.7/376.9 MB 54.7 MB/s eta 0:00:06\n",
      "   ------ --------------------------------- 61.6/376.9 MB 50.1 MB/s eta 0:00:07\n",
      "   ------ --------------------------------- 63.7/376.9 MB 50.4 MB/s eta 0:00:07\n",
      "   ------ --------------------------------- 65.4/376.9 MB 59.5 MB/s eta 0:00:06\n",
      "   ------- -------------------------------- 67.7/376.9 MB 50.4 MB/s eta 0:00:07\n",
      "   ------- -------------------------------- 70.9/376.9 MB 54.7 MB/s eta 0:00:06\n",
      "   ------- -------------------------------- 74.2/376.9 MB 54.4 MB/s eta 0:00:06\n",
      "   -------- ------------------------------- 76.5/376.9 MB 59.5 MB/s eta 0:00:06\n",
      "   -------- ------------------------------- 80.2/376.9 MB 72.6 MB/s eta 0:00:05\n",
      "   -------- ------------------------------- 83.7/376.9 MB 65.2 MB/s eta 0:00:05\n",
      "   --------- ------------------------------ 87.4/376.9 MB 65.6 MB/s eta 0:00:05\n",
      "   --------- ------------------------------ 90.9/376.9 MB 65.6 MB/s eta 0:00:05\n",
      "   --------- ------------------------------ 93.0/376.9 MB 72.6 MB/s eta 0:00:04\n",
      "   ---------- ----------------------------- 96.6/376.9 MB 81.8 MB/s eta 0:00:04\n",
      "   ---------- ----------------------------- 99.4/376.9 MB 65.6 MB/s eta 0:00:05\n",
      "   ---------- ---------------------------- 102.5/376.9 MB 65.6 MB/s eta 0:00:05\n",
      "   ----------- --------------------------- 106.4/376.9 MB 65.6 MB/s eta 0:00:05\n",
      "   ----------- --------------------------- 109.7/376.9 MB 72.6 MB/s eta 0:00:04\n",
      "   ----------- --------------------------- 113.2/376.9 MB 81.8 MB/s eta 0:00:04\n",
      "   ----------- --------------------------- 115.7/376.9 MB 72.6 MB/s eta 0:00:04\n",
      "   ------------ -------------------------- 119.4/376.9 MB 72.6 MB/s eta 0:00:04\n",
      "   ------------ -------------------------- 121.8/376.9 MB 73.1 MB/s eta 0:00:04\n",
      "   ------------ -------------------------- 125.4/376.9 MB 72.6 MB/s eta 0:00:04\n",
      "   ------------- ------------------------- 128.5/376.9 MB 72.6 MB/s eta 0:00:04\n",
      "   ------------- ------------------------- 131.9/376.9 MB 72.6 MB/s eta 0:00:04\n",
      "   -------------- ------------------------ 135.8/376.9 MB 81.8 MB/s eta 0:00:03\n",
      "   -------------- ------------------------ 138.7/376.9 MB 93.9 MB/s eta 0:00:03\n",
      "   -------------- ------------------------ 141.6/376.9 MB 72.6 MB/s eta 0:00:04\n",
      "   --------------- ----------------------- 145.4/376.9 MB 72.6 MB/s eta 0:00:04\n",
      "   --------------- ----------------------- 149.0/376.9 MB 93.9 MB/s eta 0:00:03\n",
      "   --------------- ----------------------- 152.3/376.9 MB 81.8 MB/s eta 0:00:03\n",
      "   ---------------- ---------------------- 155.0/376.9 MB 65.6 MB/s eta 0:00:04\n",
      "   ---------------- ---------------------- 158.1/376.9 MB 65.6 MB/s eta 0:00:04\n",
      "   ---------------- ---------------------- 160.6/376.9 MB 65.6 MB/s eta 0:00:04\n",
      "   ---------------- ---------------------- 164.1/376.9 MB 73.1 MB/s eta 0:00:03\n",
      "   ----------------- --------------------- 167.1/376.9 MB 59.5 MB/s eta 0:00:04\n",
      "   ----------------- --------------------- 170.2/376.9 MB 65.6 MB/s eta 0:00:04\n",
      "   ----------------- --------------------- 173.4/376.9 MB 65.6 MB/s eta 0:00:04\n",
      "   ------------------ -------------------- 175.9/376.9 MB 59.5 MB/s eta 0:00:04\n",
      "   ------------------ -------------------- 179.2/376.9 MB 65.6 MB/s eta 0:00:04\n",
      "   ------------------ -------------------- 182.9/376.9 MB 72.6 MB/s eta 0:00:03\n",
      "   ------------------- ------------------- 186.9/376.9 MB 81.8 MB/s eta 0:00:03\n",
      "   ------------------- ------------------- 189.8/376.9 MB 73.1 MB/s eta 0:00:03\n",
      "   -------------------- ------------------ 193.7/376.9 MB 73.1 MB/s eta 0:00:03\n",
      "   -------------------- ------------------ 197.5/376.9 MB 72.6 MB/s eta 0:00:03\n",
      "   -------------------- ------------------ 201.2/376.9 MB 81.8 MB/s eta 0:00:03\n",
      "   --------------------- ----------------- 204.3/376.9 MB 72.6 MB/s eta 0:00:03\n",
      "   --------------------- ----------------- 206.7/376.9 MB 65.6 MB/s eta 0:00:03\n",
      "   --------------------- ----------------- 209.7/376.9 MB 59.5 MB/s eta 0:00:03\n",
      "   ---------------------- ---------------- 212.8/376.9 MB 59.8 MB/s eta 0:00:03\n",
      "   ---------------------- ---------------- 216.0/376.9 MB 65.6 MB/s eta 0:00:03\n",
      "   ---------------------- ---------------- 219.9/376.9 MB 65.6 MB/s eta 0:00:03\n",
      "   ---------------------- ---------------- 222.2/376.9 MB 65.6 MB/s eta 0:00:03\n",
      "   ----------------------- --------------- 224.9/376.9 MB 54.4 MB/s eta 0:00:03\n",
      "   ----------------------- --------------- 226.9/376.9 MB 54.7 MB/s eta 0:00:03\n",
      "   ----------------------- --------------- 229.3/376.9 MB 50.4 MB/s eta 0:00:03\n",
      "   ------------------------ -------------- 232.4/376.9 MB 54.4 MB/s eta 0:00:03\n",
      "   ------------------------ -------------- 235.5/376.9 MB 54.7 MB/s eta 0:00:03\n",
      "   ------------------------ -------------- 239.0/376.9 MB 65.6 MB/s eta 0:00:03\n",
      "   ------------------------- ------------- 242.2/376.9 MB 59.8 MB/s eta 0:00:03\n",
      "   ------------------------- ------------- 244.4/376.9 MB 59.5 MB/s eta 0:00:03\n",
      "   ------------------------- ------------- 246.5/376.9 MB 54.7 MB/s eta 0:00:03\n",
      "   ------------------------- ------------- 248.9/376.9 MB 50.4 MB/s eta 0:00:03\n",
      "   -------------------------- ------------ 252.8/376.9 MB 54.4 MB/s eta 0:00:03\n",
      "   -------------------------- ------------ 256.8/376.9 MB 72.6 MB/s eta 0:00:02\n",
      "   --------------------------- ----------- 261.3/376.9 MB 93.9 MB/s eta 0:00:02\n",
      "   --------------------------- ----------- 265.4/376.9 MB 81.8 MB/s eta 0:00:02\n",
      "   --------------------------- ----------- 269.0/376.9 MB 93.0 MB/s eta 0:00:02\n",
      "   --------------------------- ---------- 273.3/376.9 MB 108.8 MB/s eta 0:00:01\n",
      "   ---------------------------- ---------- 277.5/376.9 MB 93.0 MB/s eta 0:00:02\n",
      "   ----------------------------- --------- 281.2/376.9 MB 72.6 MB/s eta 0:00:02\n",
      "   ----------------------------- --------- 284.6/376.9 MB 65.6 MB/s eta 0:00:02\n",
      "   ----------------------------- --------- 288.0/376.9 MB 72.6 MB/s eta 0:00:02\n",
      "   ------------------------------ -------- 291.5/376.9 MB 72.6 MB/s eta 0:00:02\n",
      "   ------------------------------ -------- 295.5/376.9 MB 72.6 MB/s eta 0:00:02\n",
      "   ------------------------------ -------- 299.5/376.9 MB 72.6 MB/s eta 0:00:02\n",
      "   ------------------------------- ------- 303.5/376.9 MB 93.9 MB/s eta 0:00:01\n",
      "   ------------------------------- ------- 306.4/376.9 MB 81.8 MB/s eta 0:00:01\n",
      "   -------------------------------- ------ 310.2/376.9 MB 81.8 MB/s eta 0:00:01\n",
      "   -------------------------------- ------ 314.0/376.9 MB 93.9 MB/s eta 0:00:01\n",
      "   -------------------------------- ------ 316.8/376.9 MB 93.9 MB/s eta 0:00:01\n",
      "   --------------------------------- ----- 320.4/376.9 MB 65.2 MB/s eta 0:00:01\n",
      "   --------------------------------- ----- 324.3/376.9 MB 72.6 MB/s eta 0:00:01\n",
      "   --------------------------------- ----- 328.1/376.9 MB 93.0 MB/s eta 0:00:01\n",
      "   ---------------------------------- ---- 330.5/376.9 MB 81.8 MB/s eta 0:00:01\n",
      "   ---------------------------------- ---- 333.8/376.9 MB 72.6 MB/s eta 0:00:01\n",
      "   ---------------------------------- ---- 335.3/376.9 MB 54.7 MB/s eta 0:00:01\n",
      "   ---------------------------------- ---- 338.0/376.9 MB 54.7 MB/s eta 0:00:01\n",
      "   ----------------------------------- --- 341.6/376.9 MB 54.7 MB/s eta 0:00:01\n",
      "   ----------------------------------- --- 345.5/376.9 MB 65.6 MB/s eta 0:00:01\n",
      "   ------------------------------------ -- 349.3/376.9 MB 65.6 MB/s eta 0:00:01\n",
      "   ------------------------------------ -- 353.8/376.9 MB 93.9 MB/s eta 0:00:01\n",
      "   ------------------------------------ -- 357.3/376.9 MB 81.8 MB/s eta 0:00:01\n",
      "   ------------------------------------- - 360.2/376.9 MB 93.0 MB/s eta 0:00:01\n",
      "   ------------------------------------- - 363.9/376.9 MB 72.6 MB/s eta 0:00:01\n",
      "   --------------------------------------  367.5/376.9 MB 81.8 MB/s eta 0:00:01\n",
      "   --------------------------------------  370.7/376.9 MB 81.8 MB/s eta 0:00:01\n",
      "   --------------------------------------  374.7/376.9 MB 81.8 MB/s eta 0:00:01\n",
      "   --------------------------------------  376.9/376.9 MB 72.6 MB/s eta 0:00:01\n",
      "   --------------------------------------  376.9/376.9 MB 72.6 MB/s eta 0:00:01\n",
      "   --------------------------------------  376.9/376.9 MB 72.6 MB/s eta 0:00:01\n",
      "   --------------------------------------  376.9/376.9 MB 72.6 MB/s eta 0:00:01\n",
      "   --------------------------------------  376.9/376.9 MB 72.6 MB/s eta 0:00:01\n",
      "   --------------------------------------  376.9/376.9 MB 72.6 MB/s eta 0:00:01\n",
      "   --------------------------------------  376.9/376.9 MB 72.6 MB/s eta 0:00:01\n",
      "   --------------------------------------  376.9/376.9 MB 72.6 MB/s eta 0:00:01\n",
      "   --------------------------------------  376.9/376.9 MB 72.6 MB/s eta 0:00:01\n",
      "   --------------------------------------  376.9/376.9 MB 72.6 MB/s eta 0:00:01\n",
      "   --------------------------------------  376.9/376.9 MB 72.6 MB/s eta 0:00:01\n",
      "   --------------------------------------  376.9/376.9 MB 72.6 MB/s eta 0:00:01\n",
      "   --------------------------------------  376.9/376.9 MB 72.6 MB/s eta 0:00:01\n",
      "   --------------------------------------  376.9/376.9 MB 72.6 MB/s eta 0:00:01\n",
      "   --------------------------------------  376.9/376.9 MB 72.6 MB/s eta 0:00:01\n",
      "   --------------------------------------  376.9/376.9 MB 72.6 MB/s eta 0:00:01\n",
      "   --------------------------------------  376.9/376.9 MB 72.6 MB/s eta 0:00:01\n",
      "   --------------------------------------  376.9/376.9 MB 72.6 MB/s eta 0:00:01\n",
      "   --------------------------------------  376.9/376.9 MB 72.6 MB/s eta 0:00:01\n",
      "   ---------------------------------------- 376.9/376.9 MB 9.9 MB/s eta 0:00:00\n",
      "Using cached flatbuffers-24.3.25-py2.py3-none-any.whl (26 kB)\n",
      "Using cached keras-3.3.3-py3-none-any.whl (1.1 MB)\n",
      "Downloading ml_dtypes-0.3.2-cp39-cp39-win_amd64.whl (127 kB)\n",
      "   ---------------------------------------- 0.0/127.7 kB ? eta -:--:--\n",
      "   ---------------------------------------- 127.7/127.7 kB 7.3 MB/s eta 0:00:00\n",
      "Using cached tensorboard-2.16.2-py3-none-any.whl (5.5 MB)\n",
      "Installing collected packages: flatbuffers, ml-dtypes, tensorboard, keras, tensorflow-intel, tensorflow\n",
      "  Attempting uninstall: flatbuffers\n",
      "    Found existing installation: flatbuffers 23.5.9\n",
      "    Uninstalling flatbuffers-23.5.9:\n",
      "      Successfully uninstalled flatbuffers-23.5.9\n",
      "  Attempting uninstall: ml-dtypes\n",
      "    Found existing installation: ml-dtypes 0.1.0\n",
      "    Uninstalling ml-dtypes-0.1.0:\n",
      "      Successfully uninstalled ml-dtypes-0.1.0\n",
      "  Attempting uninstall: tensorboard\n",
      "    Found existing installation: tensorboard 2.12.3\n",
      "    Uninstalling tensorboard-2.12.3:\n",
      "      Successfully uninstalled tensorboard-2.12.3\n",
      "  Attempting uninstall: keras\n",
      "    Found existing installation: keras 2.12.0\n",
      "    Uninstalling keras-2.12.0:\n",
      "      Successfully uninstalled keras-2.12.0\n",
      "  Attempting uninstall: tensorflow-intel\n",
      "    Found existing installation: tensorflow-intel 2.12.0\n",
      "    Uninstalling tensorflow-intel-2.12.0:\n",
      "      Successfully uninstalled tensorflow-intel-2.12.0\n",
      "  Attempting uninstall: tensorflow\n",
      "    Found existing installation: tensorflow 2.12.0\n",
      "    Uninstalling tensorflow-2.12.0:\n",
      "      Successfully uninstalled tensorflow-2.12.0\n",
      "Successfully installed flatbuffers-24.3.25 keras-3.3.3 ml-dtypes-0.3.2 tensorboard-2.16.2 tensorflow-2.16.1 tensorflow-intel-2.16.1\n",
      "Note: you may need to restart the kernel to use updated packages.\n"
     ]
    },
    {
     "name": "stderr",
     "output_type": "stream",
     "text": [
      "  WARNING: Failed to remove contents in a temporary directory 'C:\\Users\\ASUS\\AppData\\Roaming\\Python\\Python39\\site-packages\\~ensorflow'.\n",
      "  You can safely remove it manually.\n",
      "\n",
      "[notice] A new release of pip is available: 23.3.2 -> 24.0\n",
      "[notice] To update, run: python.exe -m pip install --upgrade pip\n"
     ]
    }
   ],
   "source": [
    "%pip install --upgrade tensorflow"
   ]
  },
  {
   "cell_type": "code",
   "execution_count": 1,
   "metadata": {},
   "outputs": [],
   "source": [
    "# import libraries\n",
    "from keras.models import Sequential\n",
    "from keras.layers import Conv2D, MaxPooling2D, Flatten, Dense, Dropout\n",
    "import pandas as pd\n",
    "import numpy as np\n",
    "import cv2"
   ]
  },
  {
   "cell_type": "code",
   "execution_count": 3,
   "metadata": {},
   "outputs": [
    {
     "data": {
      "text/html": [
       "<div>\n",
       "<style scoped>\n",
       "    .dataframe tbody tr th:only-of-type {\n",
       "        vertical-align: middle;\n",
       "    }\n",
       "\n",
       "    .dataframe tbody tr th {\n",
       "        vertical-align: top;\n",
       "    }\n",
       "\n",
       "    .dataframe thead th {\n",
       "        text-align: right;\n",
       "    }\n",
       "</style>\n",
       "<table border=\"1\" class=\"dataframe\">\n",
       "  <thead>\n",
       "    <tr style=\"text-align: right;\">\n",
       "      <th></th>\n",
       "      <th>filepath</th>\n",
       "      <th>label</th>\n",
       "    </tr>\n",
       "  </thead>\n",
       "  <tbody>\n",
       "    <tr>\n",
       "      <th>0</th>\n",
       "      <td>data/train\\angry\\aug_0_100.jpeg</td>\n",
       "      <td>angry</td>\n",
       "    </tr>\n",
       "    <tr>\n",
       "      <th>1</th>\n",
       "      <td>data/train\\angry\\aug_0_1000.jpeg</td>\n",
       "      <td>angry</td>\n",
       "    </tr>\n",
       "    <tr>\n",
       "      <th>2</th>\n",
       "      <td>data/train\\angry\\aug_0_1012.jpeg</td>\n",
       "      <td>angry</td>\n",
       "    </tr>\n",
       "    <tr>\n",
       "      <th>3</th>\n",
       "      <td>data/train\\angry\\aug_0_1013.jpeg</td>\n",
       "      <td>angry</td>\n",
       "    </tr>\n",
       "    <tr>\n",
       "      <th>4</th>\n",
       "      <td>data/train\\angry\\aug_0_1015.jpeg</td>\n",
       "      <td>angry</td>\n",
       "    </tr>\n",
       "  </tbody>\n",
       "</table>\n",
       "</div>"
      ],
      "text/plain": [
       "                           filepath  label\n",
       "0   data/train\\angry\\aug_0_100.jpeg  angry\n",
       "1  data/train\\angry\\aug_0_1000.jpeg  angry\n",
       "2  data/train\\angry\\aug_0_1012.jpeg  angry\n",
       "3  data/train\\angry\\aug_0_1013.jpeg  angry\n",
       "4  data/train\\angry\\aug_0_1015.jpeg  angry"
      ]
     },
     "execution_count": 3,
     "metadata": {},
     "output_type": "execute_result"
    }
   ],
   "source": [
    "# load dataset\n",
    "from tensorflow.keras.preprocessing.image import ImageDataGenerator\n",
    "train_data = pd.read_csv('data/train_labels.csv')\n",
    "train_data.head()"
   ]
  },
  {
   "cell_type": "code",
   "execution_count": 4,
   "metadata": {},
   "outputs": [
    {
     "data": {
      "text/html": [
       "<div>\n",
       "<style scoped>\n",
       "    .dataframe tbody tr th:only-of-type {\n",
       "        vertical-align: middle;\n",
       "    }\n",
       "\n",
       "    .dataframe tbody tr th {\n",
       "        vertical-align: top;\n",
       "    }\n",
       "\n",
       "    .dataframe thead th {\n",
       "        text-align: right;\n",
       "    }\n",
       "</style>\n",
       "<table border=\"1\" class=\"dataframe\">\n",
       "  <thead>\n",
       "    <tr style=\"text-align: right;\">\n",
       "      <th></th>\n",
       "      <th>filepath</th>\n",
       "      <th>label</th>\n",
       "    </tr>\n",
       "  </thead>\n",
       "  <tbody>\n",
       "    <tr>\n",
       "      <th>0</th>\n",
       "      <td>data/test\\angry\\aug_0_1012.jpeg</td>\n",
       "      <td>angry</td>\n",
       "    </tr>\n",
       "    <tr>\n",
       "      <th>1</th>\n",
       "      <td>data/test\\angry\\aug_0_1033.jpeg</td>\n",
       "      <td>angry</td>\n",
       "    </tr>\n",
       "    <tr>\n",
       "      <th>2</th>\n",
       "      <td>data/test\\angry\\aug_0_1067.jpeg</td>\n",
       "      <td>angry</td>\n",
       "    </tr>\n",
       "    <tr>\n",
       "      <th>3</th>\n",
       "      <td>data/test\\angry\\aug_0_1073.jpeg</td>\n",
       "      <td>angry</td>\n",
       "    </tr>\n",
       "    <tr>\n",
       "      <th>4</th>\n",
       "      <td>data/test\\angry\\aug_0_108.jpeg</td>\n",
       "      <td>angry</td>\n",
       "    </tr>\n",
       "  </tbody>\n",
       "</table>\n",
       "</div>"
      ],
      "text/plain": [
       "                          filepath  label\n",
       "0  data/test\\angry\\aug_0_1012.jpeg  angry\n",
       "1  data/test\\angry\\aug_0_1033.jpeg  angry\n",
       "2  data/test\\angry\\aug_0_1067.jpeg  angry\n",
       "3  data/test\\angry\\aug_0_1073.jpeg  angry\n",
       "4   data/test\\angry\\aug_0_108.jpeg  angry"
      ]
     },
     "execution_count": 4,
     "metadata": {},
     "output_type": "execute_result"
    }
   ],
   "source": [
    "test_data = pd.read_csv('data/test_labels.csv')\n",
    "test_data.head()"
   ]
  },
  {
   "cell_type": "code",
   "execution_count": 35,
   "metadata": {},
   "outputs": [
    {
     "data": {
      "text/plain": [
       "array(['angry', 'disgust', 'fear', 'happy', 'neutral', 'sad', 'surprise'],\n",
       "      dtype=object)"
      ]
     },
     "execution_count": 35,
     "metadata": {},
     "output_type": "execute_result"
    }
   ],
   "source": [
    "# class names\n",
    "class_names = test_data['label'].unique()\n",
    "class_names"
   ]
  },
  {
   "cell_type": "code",
   "execution_count": 5,
   "metadata": {},
   "outputs": [
    {
     "name": "stdout",
     "output_type": "stream",
     "text": [
      "(46506, 48, 48)\n",
      "(12141, 48, 48)\n"
     ]
    }
   ],
   "source": [
    "# Function to load images\n",
    "def load_images(filepaths):\n",
    "    images = []\n",
    "    for filepath in filepaths:\n",
    "        image = cv2.imread(filepath)\n",
    "        image = cv2.cvtColor(image, cv2.COLOR_BGR2GRAY)\n",
    "        images.append(image)\n",
    "    return np.array(images)\n",
    "\n",
    "# Load images\n",
    "train_images = load_images(train_data['filepath'])\n",
    "print(train_images.shape)\n",
    "test_images = load_images(test_data['filepath'])\n",
    "print(test_images.shape)"
   ]
  },
  {
   "cell_type": "code",
   "execution_count": 6,
   "metadata": {},
   "outputs": [
    {
     "data": {
      "text/plain": [
       "array([[[0.0627451 , 0.12156863, 0.19215686, ..., 0.62745098,\n",
       "         0.63529412, 0.63529412],\n",
       "        [0.05098039, 0.11764706, 0.20784314, ..., 0.6745098 ,\n",
       "         0.68235294, 0.68627451],\n",
       "        [0.04313725, 0.09411765, 0.19215686, ..., 0.71764706,\n",
       "         0.7254902 , 0.72941176],\n",
       "        ...,\n",
       "        [0.23529412, 0.25098039, 0.25882353, ..., 0.7372549 ,\n",
       "         0.66666667, 0.67058824],\n",
       "        [0.23137255, 0.24705882, 0.25490196, ..., 0.76862745,\n",
       "         0.67843137, 0.66666667],\n",
       "        [0.23137255, 0.24313725, 0.24705882, ..., 0.78823529,\n",
       "         0.68627451, 0.65882353]],\n",
       "\n",
       "       [[0.18823529, 0.24705882, 0.26666667, ..., 0.51372549,\n",
       "         0.50588235, 0.49803922],\n",
       "        [0.23137255, 0.18431373, 0.19607843, ..., 0.49411765,\n",
       "         0.48235294, 0.47058824],\n",
       "        [0.21176471, 0.21960784, 0.21568627, ..., 0.49803922,\n",
       "         0.50196078, 0.50588235],\n",
       "        ...,\n",
       "        [0.54117647, 0.60392157, 0.65882353, ..., 0.23529412,\n",
       "         0.23137255, 0.23137255],\n",
       "        [0.57647059, 0.62745098, 0.67843137, ..., 0.23137255,\n",
       "         0.23137255, 0.23137255],\n",
       "        [0.58823529, 0.63529412, 0.69803922, ..., 0.23137255,\n",
       "         0.23137255, 0.23137255]],\n",
       "\n",
       "       [[0.        , 0.        , 0.        , ..., 0.        ,\n",
       "         0.        , 0.        ],\n",
       "        [0.        , 0.        , 0.        , ..., 0.        ,\n",
       "         0.        , 0.        ],\n",
       "        [0.        , 0.        , 0.        , ..., 0.        ,\n",
       "         0.        , 0.        ],\n",
       "        ...,\n",
       "        [0.        , 0.        , 0.        , ..., 0.        ,\n",
       "         0.        , 0.        ],\n",
       "        [0.        , 0.        , 0.        , ..., 0.        ,\n",
       "         0.        , 0.        ],\n",
       "        [0.        , 0.        , 0.        , ..., 0.        ,\n",
       "         0.        , 0.        ]],\n",
       "\n",
       "       ...,\n",
       "\n",
       "       [[0.48627451, 0.50588235, 0.49019608, ..., 0.52156863,\n",
       "         0.51372549, 0.49803922],\n",
       "        [0.51372549, 0.50980392, 0.50980392, ..., 0.52156863,\n",
       "         0.5254902 , 0.51372549],\n",
       "        [0.55294118, 0.54509804, 0.55294118, ..., 0.54117647,\n",
       "         0.54509804, 0.5372549 ],\n",
       "        ...,\n",
       "        [0.05098039, 0.03137255, 0.14509804, ..., 0.65882353,\n",
       "         0.78431373, 1.        ],\n",
       "        [0.02745098, 0.02352941, 0.02352941, ..., 0.81960784,\n",
       "         0.90588235, 0.99607843],\n",
       "        [0.02745098, 0.        , 0.00392157, ..., 0.98039216,\n",
       "         0.95294118, 0.98431373]],\n",
       "\n",
       "       [[0.94901961, 0.94901961, 0.94901961, ..., 0.74901961,\n",
       "         0.89803922, 0.85882353],\n",
       "        [0.95686275, 0.92941176, 0.96078431, ..., 0.3372549 ,\n",
       "         0.91372549, 0.87058824],\n",
       "        [0.94901961, 0.95294118, 0.97254902, ..., 0.02352941,\n",
       "         0.68627451, 0.90980392],\n",
       "        ...,\n",
       "        [0.7372549 , 0.76862745, 0.80784314, ..., 0.78823529,\n",
       "         0.80392157, 0.83921569],\n",
       "        [0.83921569, 0.83529412, 0.85098039, ..., 0.74117647,\n",
       "         0.8       , 0.82745098],\n",
       "        [0.87058824, 0.8627451 , 0.87058824, ..., 0.66666667,\n",
       "         0.76470588, 0.79607843]],\n",
       "\n",
       "       [[0.76078431, 0.77254902, 0.74901961, ..., 0.88235294,\n",
       "         0.96078431, 1.        ],\n",
       "        [0.74901961, 0.74901961, 0.69411765, ..., 0.86666667,\n",
       "         0.92941176, 0.98431373],\n",
       "        [0.7254902 , 0.7254902 , 0.65490196, ..., 0.85098039,\n",
       "         0.90196078, 0.96862745],\n",
       "        ...,\n",
       "        [1.        , 0.95686275, 0.71764706, ..., 0.99215686,\n",
       "         1.        , 1.        ],\n",
       "        [0.98823529, 0.83529412, 0.7254902 , ..., 0.99215686,\n",
       "         1.        , 1.        ],\n",
       "        [0.91372549, 0.74509804, 0.7372549 , ..., 1.        ,\n",
       "         1.        , 1.        ]]])"
      ]
     },
     "execution_count": 6,
     "metadata": {},
     "output_type": "execute_result"
    }
   ],
   "source": [
    "# Normalize images\n",
    "train_images = train_images / 255.0\n",
    "test_images = test_images / 255.0\n",
    "train_images"
   ]
  },
  {
   "cell_type": "code",
   "execution_count": 7,
   "metadata": {},
   "outputs": [
    {
     "data": {
      "text/plain": [
       "(46506, 48, 48, 1)"
      ]
     },
     "execution_count": 7,
     "metadata": {},
     "output_type": "execute_result"
    }
   ],
   "source": [
    "# Reshape images\n",
    "train_images = train_images.reshape(train_images.shape[0], 48, 48, 1)\n",
    "test_images = test_images.reshape(test_images.shape[0], 48, 48, 1)\n",
    "train_images.shape"
   ]
  },
  {
   "cell_type": "code",
   "execution_count": 11,
   "metadata": {},
   "outputs": [
    {
     "name": "stdout",
     "output_type": "stream",
     "text": [
      "(46506, 7)\n",
      "(12141, 7)\n"
     ]
    }
   ],
   "source": [
    "# convert the labels to one-hot encoding\n",
    "from keras.utils import to_categorical\n",
    "from sklearn.preprocessing import LabelEncoder\n",
    "\n",
    "label_encoder = LabelEncoder()\n",
    "train_labels = label_encoder.fit_transform(train_data['label'])\n",
    "train_labels = to_categorical(train_labels, 7)\n",
    "print(train_labels.shape)\n",
    "\n",
    "test_labels = label_encoder.fit_transform(test_data['label'])\n",
    "test_labels = to_categorical(test_labels, 7)\n",
    "print(test_labels.shape)"
   ]
  },
  {
   "cell_type": "code",
   "execution_count": 12,
   "metadata": {},
   "outputs": [
    {
     "data": {
      "text/plain": [
       "<matplotlib.image.AxesImage at 0x2874e7a3910>"
      ]
     },
     "execution_count": 12,
     "metadata": {},
     "output_type": "execute_result"
    },
    {
     "data": {
      "image/png": "[encoded data removed]",
      "text/plain": [
       "<Figure size 640x480 with 1 Axes>"
      ]
     },
     "metadata": {},
     "output_type": "display_data"
    }
   ],
   "source": [
    "import matplotlib.pyplot as plt\n",
    "plt.imshow(train_images[16505], cmap='gray')"
   ]
  },
  {
   "cell_type": "code",
   "execution_count": 25,
   "metadata": {},
   "outputs": [
    {
     "name": "stderr",
     "output_type": "stream",
     "text": [
      "c:\\Users\\ASUS\\.conda\\envs\\tf_env\\lib\\site-packages\\keras\\src\\layers\\convolutional\\base_conv.py:107: UserWarning: Do not pass an `input_shape`/`input_dim` argument to a layer. When using Sequential models, prefer using an `Input(shape)` object as the first layer in the model instead.\n",
      "  super().__init__(activity_regularizer=activity_regularizer, **kwargs)\n"
     ]
    }
   ],
   "source": [
    "# build model\n",
    "cnn = Sequential()\n",
    "# input layer: takes the raw image data as input\n",
    "# convolutional layer: feature extraction\n",
    "cnn.add(Conv2D(filters=32, kernel_size=(3, 3), activation='relu', input_shape=(48, 48, 1)))\n",
    "# pooling layer: reduce the dimensionality of the feature map\n",
    "cnn.add(MaxPooling2D(pool_size=(2, 2)))\n",
    "cnn.add(Dropout(0.25))\n",
    "# convolutional layer\n",
    "cnn.add(Conv2D(filters=64, kernel_size=(3, 3), activation='relu'))\n",
    "# pooling layer\n",
    "cnn.add(MaxPooling2D(pool_size=(2, 2)))\n",
    "cnn.add(Dropout(0.25))\n",
    "# convolutional layer\n",
    "cnn.add(Conv2D(filters=128, kernel_size=(3, 3), activation='relu'))\n",
    "# pooling layer\n",
    "cnn.add(MaxPooling2D(pool_size=(2, 2)))\n",
    "cnn.add(Dropout(0.25))\n",
    "\n",
    "# flatten layer: convert the 2D matrix data to a vector\n",
    "cnn.add(Flatten())\n",
    "\n",
    "# fully connected layer: connect the nodes from the previous layer to the next layer\n",
    "# Fully connected layer\n",
    "cnn.add(Dense(1024, activation='relu'))\n",
    "cnn.add(Dropout(0.5))\n",
    "cnn.add(Dense(512, activation='relu'))\n",
    "cnn.add(Dropout(0.5))\n",
    "\n",
    "# final layer: output layer\n",
    "# for mutually exclusive classes, use softmax activation function\n",
    "cnn.add(Dense(7, activation='softmax'))"
   ]
  },
  {
   "cell_type": "code",
   "execution_count": 26,
   "metadata": {},
   "outputs": [
    {
     "data": {
      "text/html": [
       "<pre style=\"white-space:pre;overflow-x:auto;line-height:normal;font-family:Menlo,'DejaVu Sans Mono',consolas,'Courier New',monospace\"><span style=\"font-weight: bold\">Model: \"sequential_2\"</span>\n",
       "</pre>\n"
      ],
      "text/plain": [
       "\u001b[1mModel: \"sequential_2\"\u001b[0m\n"
      ]
     },
     "metadata": {},
     "output_type": "display_data"
    },
    {
     "data": {
      "text/html": [
       "<pre style=\"white-space:pre;overflow-x:auto;line-height:normal;font-family:Menlo,'DejaVu Sans Mono',consolas,'Courier New',monospace\">┏━━━━━━━━━━━━━━━━━━━━━━━━━━━━━━━━━┳━━━━━━━━━━━━━━━━━━━━━━━━┳━━━━━━━━━━━━━━━┓\n",
       "┃<span style=\"font-weight: bold\"> Layer (type)                    </span>┃<span style=\"font-weight: bold\"> Output Shape           </span>┃<span style=\"font-weight: bold\">       Param # </span>┃\n",
       "┡━━━━━━━━━━━━━━━━━━━━━━━━━━━━━━━━━╇━━━━━━━━━━━━━━━━━━━━━━━━╇━━━━━━━━━━━━━━━┩\n",
       "│ conv2d_6 (<span style=\"color: #0087ff; text-decoration-color: #0087ff\">Conv2D</span>)               │ (<span style=\"color: #00d7ff; text-decoration-color: #00d7ff\">None</span>, <span style=\"color: #00af00; text-decoration-color: #00af00\">46</span>, <span style=\"color: #00af00; text-decoration-color: #00af00\">46</span>, <span style=\"color: #00af00; text-decoration-color: #00af00\">32</span>)     │           <span style=\"color: #00af00; text-decoration-color: #00af00\">320</span> │\n",
       "├─────────────────────────────────┼────────────────────────┼───────────────┤\n",
       "│ max_pooling2d_6 (<span style=\"color: #0087ff; text-decoration-color: #0087ff\">MaxPooling2D</span>)  │ (<span style=\"color: #00d7ff; text-decoration-color: #00d7ff\">None</span>, <span style=\"color: #00af00; text-decoration-color: #00af00\">23</span>, <span style=\"color: #00af00; text-decoration-color: #00af00\">23</span>, <span style=\"color: #00af00; text-decoration-color: #00af00\">32</span>)     │             <span style=\"color: #00af00; text-decoration-color: #00af00\">0</span> │\n",
       "├─────────────────────────────────┼────────────────────────┼───────────────┤\n",
       "│ dropout_9 (<span style=\"color: #0087ff; text-decoration-color: #0087ff\">Dropout</span>)             │ (<span style=\"color: #00d7ff; text-decoration-color: #00d7ff\">None</span>, <span style=\"color: #00af00; text-decoration-color: #00af00\">23</span>, <span style=\"color: #00af00; text-decoration-color: #00af00\">23</span>, <span style=\"color: #00af00; text-decoration-color: #00af00\">32</span>)     │             <span style=\"color: #00af00; text-decoration-color: #00af00\">0</span> │\n",
       "├─────────────────────────────────┼────────────────────────┼───────────────┤\n",
       "│ conv2d_7 (<span style=\"color: #0087ff; text-decoration-color: #0087ff\">Conv2D</span>)               │ (<span style=\"color: #00d7ff; text-decoration-color: #00d7ff\">None</span>, <span style=\"color: #00af00; text-decoration-color: #00af00\">21</span>, <span style=\"color: #00af00; text-decoration-color: #00af00\">21</span>, <span style=\"color: #00af00; text-decoration-color: #00af00\">64</span>)     │        <span style=\"color: #00af00; text-decoration-color: #00af00\">18,496</span> │\n",
       "├─────────────────────────────────┼────────────────────────┼───────────────┤\n",
       "│ max_pooling2d_7 (<span style=\"color: #0087ff; text-decoration-color: #0087ff\">MaxPooling2D</span>)  │ (<span style=\"color: #00d7ff; text-decoration-color: #00d7ff\">None</span>, <span style=\"color: #00af00; text-decoration-color: #00af00\">10</span>, <span style=\"color: #00af00; text-decoration-color: #00af00\">10</span>, <span style=\"color: #00af00; text-decoration-color: #00af00\">64</span>)     │             <span style=\"color: #00af00; text-decoration-color: #00af00\">0</span> │\n",
       "├─────────────────────────────────┼────────────────────────┼───────────────┤\n",
       "│ dropout_10 (<span style=\"color: #0087ff; text-decoration-color: #0087ff\">Dropout</span>)            │ (<span style=\"color: #00d7ff; text-decoration-color: #00d7ff\">None</span>, <span style=\"color: #00af00; text-decoration-color: #00af00\">10</span>, <span style=\"color: #00af00; text-decoration-color: #00af00\">10</span>, <span style=\"color: #00af00; text-decoration-color: #00af00\">64</span>)     │             <span style=\"color: #00af00; text-decoration-color: #00af00\">0</span> │\n",
       "├─────────────────────────────────┼────────────────────────┼───────────────┤\n",
       "│ conv2d_8 (<span style=\"color: #0087ff; text-decoration-color: #0087ff\">Conv2D</span>)               │ (<span style=\"color: #00d7ff; text-decoration-color: #00d7ff\">None</span>, <span style=\"color: #00af00; text-decoration-color: #00af00\">8</span>, <span style=\"color: #00af00; text-decoration-color: #00af00\">8</span>, <span style=\"color: #00af00; text-decoration-color: #00af00\">128</span>)      │        <span style=\"color: #00af00; text-decoration-color: #00af00\">73,856</span> │\n",
       "├─────────────────────────────────┼────────────────────────┼───────────────┤\n",
       "│ max_pooling2d_8 (<span style=\"color: #0087ff; text-decoration-color: #0087ff\">MaxPooling2D</span>)  │ (<span style=\"color: #00d7ff; text-decoration-color: #00d7ff\">None</span>, <span style=\"color: #00af00; text-decoration-color: #00af00\">4</span>, <span style=\"color: #00af00; text-decoration-color: #00af00\">4</span>, <span style=\"color: #00af00; text-decoration-color: #00af00\">128</span>)      │             <span style=\"color: #00af00; text-decoration-color: #00af00\">0</span> │\n",
       "├─────────────────────────────────┼────────────────────────┼───────────────┤\n",
       "│ dropout_11 (<span style=\"color: #0087ff; text-decoration-color: #0087ff\">Dropout</span>)            │ (<span style=\"color: #00d7ff; text-decoration-color: #00d7ff\">None</span>, <span style=\"color: #00af00; text-decoration-color: #00af00\">4</span>, <span style=\"color: #00af00; text-decoration-color: #00af00\">4</span>, <span style=\"color: #00af00; text-decoration-color: #00af00\">128</span>)      │             <span style=\"color: #00af00; text-decoration-color: #00af00\">0</span> │\n",
       "├─────────────────────────────────┼────────────────────────┼───────────────┤\n",
       "│ flatten_2 (<span style=\"color: #0087ff; text-decoration-color: #0087ff\">Flatten</span>)             │ (<span style=\"color: #00d7ff; text-decoration-color: #00d7ff\">None</span>, <span style=\"color: #00af00; text-decoration-color: #00af00\">2048</span>)           │             <span style=\"color: #00af00; text-decoration-color: #00af00\">0</span> │\n",
       "├─────────────────────────────────┼────────────────────────┼───────────────┤\n",
       "│ dense_5 (<span style=\"color: #0087ff; text-decoration-color: #0087ff\">Dense</span>)                 │ (<span style=\"color: #00d7ff; text-decoration-color: #00d7ff\">None</span>, <span style=\"color: #00af00; text-decoration-color: #00af00\">1024</span>)           │     <span style=\"color: #00af00; text-decoration-color: #00af00\">2,098,176</span> │\n",
       "├─────────────────────────────────┼────────────────────────┼───────────────┤\n",
       "│ dropout_12 (<span style=\"color: #0087ff; text-decoration-color: #0087ff\">Dropout</span>)            │ (<span style=\"color: #00d7ff; text-decoration-color: #00d7ff\">None</span>, <span style=\"color: #00af00; text-decoration-color: #00af00\">1024</span>)           │             <span style=\"color: #00af00; text-decoration-color: #00af00\">0</span> │\n",
       "├─────────────────────────────────┼────────────────────────┼───────────────┤\n",
       "│ dense_6 (<span style=\"color: #0087ff; text-decoration-color: #0087ff\">Dense</span>)                 │ (<span style=\"color: #00d7ff; text-decoration-color: #00d7ff\">None</span>, <span style=\"color: #00af00; text-decoration-color: #00af00\">512</span>)            │       <span style=\"color: #00af00; text-decoration-color: #00af00\">524,800</span> │\n",
       "├─────────────────────────────────┼────────────────────────┼───────────────┤\n",
       "│ dropout_13 (<span style=\"color: #0087ff; text-decoration-color: #0087ff\">Dropout</span>)            │ (<span style=\"color: #00d7ff; text-decoration-color: #00d7ff\">None</span>, <span style=\"color: #00af00; text-decoration-color: #00af00\">512</span>)            │             <span style=\"color: #00af00; text-decoration-color: #00af00\">0</span> │\n",
       "├─────────────────────────────────┼────────────────────────┼───────────────┤\n",
       "│ dense_7 (<span style=\"color: #0087ff; text-decoration-color: #0087ff\">Dense</span>)                 │ (<span style=\"color: #00d7ff; text-decoration-color: #00d7ff\">None</span>, <span style=\"color: #00af00; text-decoration-color: #00af00\">7</span>)              │         <span style=\"color: #00af00; text-decoration-color: #00af00\">3,591</span> │\n",
       "└─────────────────────────────────┴────────────────────────┴───────────────┘\n",
       "</pre>\n"
      ],
      "text/plain": [
       "┏━━━━━━━━━━━━━━━━━━━━━━━━━━━━━━━━━┳━━━━━━━━━━━━━━━━━━━━━━━━┳━━━━━━━━━━━━━━━┓\n",
       "┃\u001b[1m \u001b[0m\u001b[1mLayer (type)                   \u001b[0m\u001b[1m \u001b[0m┃\u001b[1m \u001b[0m\u001b[1mOutput Shape          \u001b[0m\u001b[1m \u001b[0m┃\u001b[1m \u001b[0m\u001b[1m      Param #\u001b[0m\u001b[1m \u001b[0m┃\n",
       "┡━━━━━━━━━━━━━━━━━━━━━━━━━━━━━━━━━╇━━━━━━━━━━━━━━━━━━━━━━━━╇━━━━━━━━━━━━━━━┩\n",
       "│ conv2d_6 (\u001b[38;5;33mConv2D\u001b[0m)               │ (\u001b[38;5;45mNone\u001b[0m, \u001b[38;5;34m46\u001b[0m, \u001b[38;5;34m46\u001b[0m, \u001b[38;5;34m32\u001b[0m)     │           \u001b[38;5;34m320\u001b[0m │\n",
       "├─────────────────────────────────┼────────────────────────┼───────────────┤\n",
       "│ max_pooling2d_6 (\u001b[38;5;33mMaxPooling2D\u001b[0m)  │ (\u001b[38;5;45mNone\u001b[0m, \u001b[38;5;34m23\u001b[0m, \u001b[38;5;34m23\u001b[0m, \u001b[38;5;34m32\u001b[0m)     │             \u001b[38;5;34m0\u001b[0m │\n",
       "├─────────────────────────────────┼────────────────────────┼───────────────┤\n",
       "│ dropout_9 (\u001b[38;5;33mDropout\u001b[0m)             │ (\u001b[38;5;45mNone\u001b[0m, \u001b[38;5;34m23\u001b[0m, \u001b[38;5;34m23\u001b[0m, \u001b[38;5;34m32\u001b[0m)     │             \u001b[38;5;34m0\u001b[0m │\n",
       "├─────────────────────────────────┼────────────────────────┼───────────────┤\n",
       "│ conv2d_7 (\u001b[38;5;33mConv2D\u001b[0m)               │ (\u001b[38;5;45mNone\u001b[0m, \u001b[38;5;34m21\u001b[0m, \u001b[38;5;34m21\u001b[0m, \u001b[38;5;34m64\u001b[0m)     │        \u001b[38;5;34m18,496\u001b[0m │\n",
       "├─────────────────────────────────┼────────────────────────┼───────────────┤\n",
       "│ max_pooling2d_7 (\u001b[38;5;33mMaxPooling2D\u001b[0m)  │ (\u001b[38;5;45mNone\u001b[0m, \u001b[38;5;34m10\u001b[0m, \u001b[38;5;34m10\u001b[0m, \u001b[38;5;34m64\u001b[0m)     │             \u001b[38;5;34m0\u001b[0m │\n",
       "├─────────────────────────────────┼────────────────────────┼───────────────┤\n",
       "│ dropout_10 (\u001b[38;5;33mDropout\u001b[0m)            │ (\u001b[38;5;45mNone\u001b[0m, \u001b[38;5;34m10\u001b[0m, \u001b[38;5;34m10\u001b[0m, \u001b[38;5;34m64\u001b[0m)     │             \u001b[38;5;34m0\u001b[0m │\n",
       "├─────────────────────────────────┼────────────────────────┼───────────────┤\n",
       "│ conv2d_8 (\u001b[38;5;33mConv2D\u001b[0m)               │ (\u001b[38;5;45mNone\u001b[0m, \u001b[38;5;34m8\u001b[0m, \u001b[38;5;34m8\u001b[0m, \u001b[38;5;34m128\u001b[0m)      │        \u001b[38;5;34m73,856\u001b[0m │\n",
       "├─────────────────────────────────┼────────────────────────┼───────────────┤\n",
       "│ max_pooling2d_8 (\u001b[38;5;33mMaxPooling2D\u001b[0m)  │ (\u001b[38;5;45mNone\u001b[0m, \u001b[38;5;34m4\u001b[0m, \u001b[38;5;34m4\u001b[0m, \u001b[38;5;34m128\u001b[0m)      │             \u001b[38;5;34m0\u001b[0m │\n",
       "├─────────────────────────────────┼────────────────────────┼───────────────┤\n",
       "│ dropout_11 (\u001b[38;5;33mDropout\u001b[0m)            │ (\u001b[38;5;45mNone\u001b[0m, \u001b[38;5;34m4\u001b[0m, \u001b[38;5;34m4\u001b[0m, \u001b[38;5;34m128\u001b[0m)      │             \u001b[38;5;34m0\u001b[0m │\n",
       "├─────────────────────────────────┼────────────────────────┼───────────────┤\n",
       "│ flatten_2 (\u001b[38;5;33mFlatten\u001b[0m)             │ (\u001b[38;5;45mNone\u001b[0m, \u001b[38;5;34m2048\u001b[0m)           │             \u001b[38;5;34m0\u001b[0m │\n",
       "├─────────────────────────────────┼────────────────────────┼───────────────┤\n",
       "│ dense_5 (\u001b[38;5;33mDense\u001b[0m)                 │ (\u001b[38;5;45mNone\u001b[0m, \u001b[38;5;34m1024\u001b[0m)           │     \u001b[38;5;34m2,098,176\u001b[0m │\n",
       "├─────────────────────────────────┼────────────────────────┼───────────────┤\n",
       "│ dropout_12 (\u001b[38;5;33mDropout\u001b[0m)            │ (\u001b[38;5;45mNone\u001b[0m, \u001b[38;5;34m1024\u001b[0m)           │             \u001b[38;5;34m0\u001b[0m │\n",
       "├─────────────────────────────────┼────────────────────────┼───────────────┤\n",
       "│ dense_6 (\u001b[38;5;33mDense\u001b[0m)                 │ (\u001b[38;5;45mNone\u001b[0m, \u001b[38;5;34m512\u001b[0m)            │       \u001b[38;5;34m524,800\u001b[0m │\n",
       "├─────────────────────────────────┼────────────────────────┼───────────────┤\n",
       "│ dropout_13 (\u001b[38;5;33mDropout\u001b[0m)            │ (\u001b[38;5;45mNone\u001b[0m, \u001b[38;5;34m512\u001b[0m)            │             \u001b[38;5;34m0\u001b[0m │\n",
       "├─────────────────────────────────┼────────────────────────┼───────────────┤\n",
       "│ dense_7 (\u001b[38;5;33mDense\u001b[0m)                 │ (\u001b[38;5;45mNone\u001b[0m, \u001b[38;5;34m7\u001b[0m)              │         \u001b[38;5;34m3,591\u001b[0m │\n",
       "└─────────────────────────────────┴────────────────────────┴───────────────┘\n"
      ]
     },
     "metadata": {},
     "output_type": "display_data"
    },
    {
     "data": {
      "text/html": [
       "<pre style=\"white-space:pre;overflow-x:auto;line-height:normal;font-family:Menlo,'DejaVu Sans Mono',consolas,'Courier New',monospace\"><span style=\"font-weight: bold\"> Total params: </span><span style=\"color: #00af00; text-decoration-color: #00af00\">2,719,239</span> (10.37 MB)\n",
       "</pre>\n"
      ],
      "text/plain": [
       "\u001b[1m Total params: \u001b[0m\u001b[38;5;34m2,719,239\u001b[0m (10.37 MB)\n"
      ]
     },
     "metadata": {},
     "output_type": "display_data"
    },
    {
     "data": {
      "text/html": [
       "<pre style=\"white-space:pre;overflow-x:auto;line-height:normal;font-family:Menlo,'DejaVu Sans Mono',consolas,'Courier New',monospace\"><span style=\"font-weight: bold\"> Trainable params: </span><span style=\"color: #00af00; text-decoration-color: #00af00\">2,719,239</span> (10.37 MB)\n",
       "</pre>\n"
      ],
      "text/plain": [
       "\u001b[1m Trainable params: \u001b[0m\u001b[38;5;34m2,719,239\u001b[0m (10.37 MB)\n"
      ]
     },
     "metadata": {},
     "output_type": "display_data"
    },
    {
     "data": {
      "text/html": [
       "<pre style=\"white-space:pre;overflow-x:auto;line-height:normal;font-family:Menlo,'DejaVu Sans Mono',consolas,'Courier New',monospace\"><span style=\"font-weight: bold\"> Non-trainable params: </span><span style=\"color: #00af00; text-decoration-color: #00af00\">0</span> (0.00 B)\n",
       "</pre>\n"
      ],
      "text/plain": [
       "\u001b[1m Non-trainable params: \u001b[0m\u001b[38;5;34m0\u001b[0m (0.00 B)\n"
      ]
     },
     "metadata": {},
     "output_type": "display_data"
    }
   ],
   "source": [
    "cnn.summary()"
   ]
  },
  {
   "cell_type": "code",
   "execution_count": 27,
   "metadata": {},
   "outputs": [],
   "source": [
    "# compile the model\n",
    "# for optimization, use adam optimizer, and categorical crossentropy loss function\n",
    "cnn.compile(optimizer='adam', loss='categorical_crossentropy', metrics=['accuracy'])"
   ]
  },
  {
   "cell_type": "code",
   "execution_count": 28,
   "metadata": {},
   "outputs": [
    {
     "name": "stdout",
     "output_type": "stream",
     "text": [
      "Epoch 1/60\n",
      "\u001b[1m182/182\u001b[0m \u001b[32m━━━━━━━━━━━━━━━━━━━━\u001b[0m\u001b[37m\u001b[0m \u001b[1m57s\u001b[0m 291ms/step - accuracy: 0.1583 - loss: 1.9411\n",
      "Epoch 2/60\n",
      "\u001b[1m182/182\u001b[0m \u001b[32m━━━━━━━━━━━━━━━━━━━━\u001b[0m\u001b[37m\u001b[0m \u001b[1m52s\u001b[0m 285ms/step - accuracy: 0.2926 - loss: 1.7739\n",
      "Epoch 3/60\n",
      "\u001b[1m182/182\u001b[0m \u001b[32m━━━━━━━━━━━━━━━━━━━━\u001b[0m\u001b[37m\u001b[0m \u001b[1m49s\u001b[0m 267ms/step - accuracy: 0.3753 - loss: 1.6167\n",
      "Epoch 4/60\n",
      "\u001b[1m182/182\u001b[0m \u001b[32m━━━━━━━━━━━━━━━━━━━━\u001b[0m\u001b[37m\u001b[0m \u001b[1m49s\u001b[0m 268ms/step - accuracy: 0.4199 - loss: 1.5160\n",
      "Epoch 5/60\n",
      "\u001b[1m182/182\u001b[0m \u001b[32m━━━━━━━━━━━━━━━━━━━━\u001b[0m\u001b[37m\u001b[0m \u001b[1m49s\u001b[0m 271ms/step - accuracy: 0.4465 - loss: 1.4502\n",
      "Epoch 6/60\n",
      "\u001b[1m182/182\u001b[0m \u001b[32m━━━━━━━━━━━━━━━━━━━━\u001b[0m\u001b[37m\u001b[0m \u001b[1m49s\u001b[0m 269ms/step - accuracy: 0.4682 - loss: 1.3982\n",
      "Epoch 7/60\n",
      "\u001b[1m182/182\u001b[0m \u001b[32m━━━━━━━━━━━━━━━━━━━━\u001b[0m\u001b[37m\u001b[0m \u001b[1m53s\u001b[0m 291ms/step - accuracy: 0.4831 - loss: 1.3541\n",
      "Epoch 8/60\n",
      "\u001b[1m182/182\u001b[0m \u001b[32m━━━━━━━━━━━━━━━━━━━━\u001b[0m\u001b[37m\u001b[0m \u001b[1m49s\u001b[0m 271ms/step - accuracy: 0.4941 - loss: 1.3255\n",
      "Epoch 9/60\n",
      "\u001b[1m182/182\u001b[0m \u001b[32m━━━━━━━━━━━━━━━━━━━━\u001b[0m\u001b[37m\u001b[0m \u001b[1m50s\u001b[0m 275ms/step - accuracy: 0.5128 - loss: 1.2798\n",
      "Epoch 10/60\n",
      "\u001b[1m182/182\u001b[0m \u001b[32m━━━━━━━━━━━━━━━━━━━━\u001b[0m\u001b[37m\u001b[0m \u001b[1m48s\u001b[0m 266ms/step - accuracy: 0.5150 - loss: 1.2756\n",
      "Epoch 11/60\n",
      "\u001b[1m182/182\u001b[0m \u001b[32m━━━━━━━━━━━━━━━━━━━━\u001b[0m\u001b[37m\u001b[0m \u001b[1m49s\u001b[0m 267ms/step - accuracy: 0.5265 - loss: 1.2418\n",
      "Epoch 12/60\n",
      "\u001b[1m182/182\u001b[0m \u001b[32m━━━━━━━━━━━━━━━━━━━━\u001b[0m\u001b[37m\u001b[0m \u001b[1m49s\u001b[0m 272ms/step - accuracy: 0.5410 - loss: 1.2188\n",
      "Epoch 13/60\n",
      "\u001b[1m182/182\u001b[0m \u001b[32m━━━━━━━━━━━━━━━━━━━━\u001b[0m\u001b[37m\u001b[0m \u001b[1m46s\u001b[0m 255ms/step - accuracy: 0.5434 - loss: 1.2019\n",
      "Epoch 14/60\n",
      "\u001b[1m182/182\u001b[0m \u001b[32m━━━━━━━━━━━━━━━━━━━━\u001b[0m\u001b[37m\u001b[0m \u001b[1m46s\u001b[0m 252ms/step - accuracy: 0.5586 - loss: 1.1630\n",
      "Epoch 15/60\n",
      "\u001b[1m182/182\u001b[0m \u001b[32m━━━━━━━━━━━━━━━━━━━━\u001b[0m\u001b[37m\u001b[0m \u001b[1m47s\u001b[0m 255ms/step - accuracy: 0.5717 - loss: 1.1264\n",
      "Epoch 16/60\n",
      "\u001b[1m182/182\u001b[0m \u001b[32m━━━━━━━━━━━━━━━━━━━━\u001b[0m\u001b[37m\u001b[0m \u001b[1m46s\u001b[0m 252ms/step - accuracy: 0.5848 - loss: 1.1061\n",
      "Epoch 17/60\n",
      "\u001b[1m182/182\u001b[0m \u001b[32m━━━━━━━━━━━━━━━━━━━━\u001b[0m\u001b[37m\u001b[0m \u001b[1m46s\u001b[0m 251ms/step - accuracy: 0.5809 - loss: 1.1021\n",
      "Epoch 18/60\n",
      "\u001b[1m182/182\u001b[0m \u001b[32m━━━━━━━━━━━━━━━━━━━━\u001b[0m\u001b[37m\u001b[0m \u001b[1m46s\u001b[0m 252ms/step - accuracy: 0.5922 - loss: 1.0814\n",
      "Epoch 19/60\n",
      "\u001b[1m182/182\u001b[0m \u001b[32m━━━━━━━━━━━━━━━━━━━━\u001b[0m\u001b[37m\u001b[0m \u001b[1m45s\u001b[0m 250ms/step - accuracy: 0.5972 - loss: 1.0614\n",
      "Epoch 20/60\n",
      "\u001b[1m182/182\u001b[0m \u001b[32m━━━━━━━━━━━━━━━━━━━━\u001b[0m\u001b[37m\u001b[0m \u001b[1m46s\u001b[0m 253ms/step - accuracy: 0.6065 - loss: 1.0446\n",
      "Epoch 21/60\n",
      "\u001b[1m182/182\u001b[0m \u001b[32m━━━━━━━━━━━━━━━━━━━━\u001b[0m\u001b[37m\u001b[0m \u001b[1m45s\u001b[0m 249ms/step - accuracy: 0.6137 - loss: 1.0316\n",
      "Epoch 22/60\n",
      "\u001b[1m182/182\u001b[0m \u001b[32m━━━━━━━━━━━━━━━━━━━━\u001b[0m\u001b[37m\u001b[0m \u001b[1m45s\u001b[0m 248ms/step - accuracy: 0.6227 - loss: 1.0002\n",
      "Epoch 23/60\n",
      "\u001b[1m182/182\u001b[0m \u001b[32m━━━━━━━━━━━━━━━━━━━━\u001b[0m\u001b[37m\u001b[0m \u001b[1m46s\u001b[0m 250ms/step - accuracy: 0.6312 - loss: 0.9835\n",
      "Epoch 24/60\n",
      "\u001b[1m182/182\u001b[0m \u001b[32m━━━━━━━━━━━━━━━━━━━━\u001b[0m\u001b[37m\u001b[0m \u001b[1m46s\u001b[0m 252ms/step - accuracy: 0.6325 - loss: 0.9708\n",
      "Epoch 25/60\n",
      "\u001b[1m182/182\u001b[0m \u001b[32m━━━━━━━━━━━━━━━━━━━━\u001b[0m\u001b[37m\u001b[0m \u001b[1m46s\u001b[0m 251ms/step - accuracy: 0.6406 - loss: 0.9513\n",
      "Epoch 26/60\n",
      "\u001b[1m182/182\u001b[0m \u001b[32m━━━━━━━━━━━━━━━━━━━━\u001b[0m\u001b[37m\u001b[0m \u001b[1m47s\u001b[0m 259ms/step - accuracy: 0.6480 - loss: 0.9449\n",
      "Epoch 27/60\n",
      "\u001b[1m182/182\u001b[0m \u001b[32m━━━━━━━━━━━━━━━━━━━━\u001b[0m\u001b[37m\u001b[0m \u001b[1m46s\u001b[0m 251ms/step - accuracy: 0.6497 - loss: 0.9374\n",
      "Epoch 28/60\n",
      "\u001b[1m182/182\u001b[0m \u001b[32m━━━━━━━━━━━━━━━━━━━━\u001b[0m\u001b[37m\u001b[0m \u001b[1m46s\u001b[0m 251ms/step - accuracy: 0.6602 - loss: 0.9128\n",
      "Epoch 29/60\n",
      "\u001b[1m182/182\u001b[0m \u001b[32m━━━━━━━━━━━━━━━━━━━━\u001b[0m\u001b[37m\u001b[0m \u001b[1m45s\u001b[0m 249ms/step - accuracy: 0.6664 - loss: 0.8965\n",
      "Epoch 30/60\n",
      "\u001b[1m182/182\u001b[0m \u001b[32m━━━━━━━━━━━━━━━━━━━━\u001b[0m\u001b[37m\u001b[0m \u001b[1m46s\u001b[0m 252ms/step - accuracy: 0.6732 - loss: 0.8798\n",
      "Epoch 31/60\n",
      "\u001b[1m182/182\u001b[0m \u001b[32m━━━━━━━━━━━━━━━━━━━━\u001b[0m\u001b[37m\u001b[0m \u001b[1m46s\u001b[0m 251ms/step - accuracy: 0.6720 - loss: 0.8730\n",
      "Epoch 32/60\n",
      "\u001b[1m182/182\u001b[0m \u001b[32m━━━━━━━━━━━━━━━━━━━━\u001b[0m\u001b[37m\u001b[0m \u001b[1m45s\u001b[0m 250ms/step - accuracy: 0.6762 - loss: 0.8669\n",
      "Epoch 33/60\n",
      "\u001b[1m182/182\u001b[0m \u001b[32m━━━━━━━━━━━━━━━━━━━━\u001b[0m\u001b[37m\u001b[0m \u001b[1m45s\u001b[0m 249ms/step - accuracy: 0.6841 - loss: 0.8488\n",
      "Epoch 34/60\n",
      "\u001b[1m182/182\u001b[0m \u001b[32m━━━━━━━━━━━━━━━━━━━━\u001b[0m\u001b[37m\u001b[0m \u001b[1m46s\u001b[0m 254ms/step - accuracy: 0.6923 - loss: 0.8351\n",
      "Epoch 35/60\n",
      "\u001b[1m182/182\u001b[0m \u001b[32m━━━━━━━━━━━━━━━━━━━━\u001b[0m\u001b[37m\u001b[0m \u001b[1m46s\u001b[0m 251ms/step - accuracy: 0.6951 - loss: 0.8172\n",
      "Epoch 36/60\n",
      "\u001b[1m182/182\u001b[0m \u001b[32m━━━━━━━━━━━━━━━━━━━━\u001b[0m\u001b[37m\u001b[0m \u001b[1m46s\u001b[0m 251ms/step - accuracy: 0.6983 - loss: 0.8172\n",
      "Epoch 37/60\n",
      "\u001b[1m182/182\u001b[0m \u001b[32m━━━━━━━━━━━━━━━━━━━━\u001b[0m\u001b[37m\u001b[0m \u001b[1m46s\u001b[0m 250ms/step - accuracy: 0.7038 - loss: 0.8060\n",
      "Epoch 38/60\n",
      "\u001b[1m182/182\u001b[0m \u001b[32m━━━━━━━━━━━━━━━━━━━━\u001b[0m\u001b[37m\u001b[0m \u001b[1m46s\u001b[0m 253ms/step - accuracy: 0.7028 - loss: 0.7983\n",
      "Epoch 39/60\n",
      "\u001b[1m182/182\u001b[0m \u001b[32m━━━━━━━━━━━━━━━━━━━━\u001b[0m\u001b[37m\u001b[0m \u001b[1m46s\u001b[0m 251ms/step - accuracy: 0.7115 - loss: 0.7824\n",
      "Epoch 40/60\n",
      "\u001b[1m182/182\u001b[0m \u001b[32m━━━━━━━━━━━━━━━━━━━━\u001b[0m\u001b[37m\u001b[0m \u001b[1m46s\u001b[0m 252ms/step - accuracy: 0.7183 - loss: 0.7709\n",
      "Epoch 41/60\n",
      "\u001b[1m182/182\u001b[0m \u001b[32m━━━━━━━━━━━━━━━━━━━━\u001b[0m\u001b[37m\u001b[0m \u001b[1m46s\u001b[0m 251ms/step - accuracy: 0.7209 - loss: 0.7597\n",
      "Epoch 42/60\n",
      "\u001b[1m182/182\u001b[0m \u001b[32m━━━━━━━━━━━━━━━━━━━━\u001b[0m\u001b[37m\u001b[0m \u001b[1m46s\u001b[0m 250ms/step - accuracy: 0.7231 - loss: 0.7589\n",
      "Epoch 43/60\n",
      "\u001b[1m182/182\u001b[0m \u001b[32m━━━━━━━━━━━━━━━━━━━━\u001b[0m\u001b[37m\u001b[0m \u001b[1m46s\u001b[0m 252ms/step - accuracy: 0.7252 - loss: 0.7470\n",
      "Epoch 44/60\n",
      "\u001b[1m182/182\u001b[0m \u001b[32m━━━━━━━━━━━━━━━━━━━━\u001b[0m\u001b[37m\u001b[0m \u001b[1m46s\u001b[0m 251ms/step - accuracy: 0.7266 - loss: 0.7424\n",
      "Epoch 45/60\n",
      "\u001b[1m182/182\u001b[0m \u001b[32m━━━━━━━━━━━━━━━━━━━━\u001b[0m\u001b[37m\u001b[0m \u001b[1m45s\u001b[0m 250ms/step - accuracy: 0.7278 - loss: 0.7389\n",
      "Epoch 46/60\n",
      "\u001b[1m182/182\u001b[0m \u001b[32m━━━━━━━━━━━━━━━━━━━━\u001b[0m\u001b[37m\u001b[0m \u001b[1m46s\u001b[0m 254ms/step - accuracy: 0.7294 - loss: 0.7367\n",
      "Epoch 47/60\n",
      "\u001b[1m182/182\u001b[0m \u001b[32m━━━━━━━━━━━━━━━━━━━━\u001b[0m\u001b[37m\u001b[0m \u001b[1m45s\u001b[0m 249ms/step - accuracy: 0.7348 - loss: 0.7164\n",
      "Epoch 48/60\n",
      "\u001b[1m182/182\u001b[0m \u001b[32m━━━━━━━━━━━━━━━━━━━━\u001b[0m\u001b[37m\u001b[0m \u001b[1m45s\u001b[0m 250ms/step - accuracy: 0.7412 - loss: 0.7086\n",
      "Epoch 49/60\n",
      "\u001b[1m182/182\u001b[0m \u001b[32m━━━━━━━━━━━━━━━━━━━━\u001b[0m\u001b[37m\u001b[0m \u001b[1m46s\u001b[0m 253ms/step - accuracy: 0.7416 - loss: 0.7052\n",
      "Epoch 50/60\n",
      "\u001b[1m182/182\u001b[0m \u001b[32m━━━━━━━━━━━━━━━━━━━━\u001b[0m\u001b[37m\u001b[0m \u001b[1m46s\u001b[0m 255ms/step - accuracy: 0.7442 - loss: 0.7006\n",
      "Epoch 51/60\n",
      "\u001b[1m182/182\u001b[0m \u001b[32m━━━━━━━━━━━━━━━━━━━━\u001b[0m\u001b[37m\u001b[0m \u001b[1m47s\u001b[0m 260ms/step - accuracy: 0.7468 - loss: 0.6889\n",
      "Epoch 52/60\n",
      "\u001b[1m182/182\u001b[0m \u001b[32m━━━━━━━━━━━━━━━━━━━━\u001b[0m\u001b[37m\u001b[0m \u001b[1m47s\u001b[0m 260ms/step - accuracy: 0.7454 - loss: 0.6909\n",
      "Epoch 53/60\n",
      "\u001b[1m182/182\u001b[0m \u001b[32m━━━━━━━━━━━━━━━━━━━━\u001b[0m\u001b[37m\u001b[0m \u001b[1m48s\u001b[0m 263ms/step - accuracy: 0.7540 - loss: 0.6822\n",
      "Epoch 54/60\n",
      "\u001b[1m182/182\u001b[0m \u001b[32m━━━━━━━━━━━━━━━━━━━━\u001b[0m\u001b[37m\u001b[0m \u001b[1m47s\u001b[0m 257ms/step - accuracy: 0.7532 - loss: 0.6786\n",
      "Epoch 55/60\n",
      "\u001b[1m182/182\u001b[0m \u001b[32m━━━━━━━━━━━━━━━━━━━━\u001b[0m\u001b[37m\u001b[0m \u001b[1m46s\u001b[0m 250ms/step - accuracy: 0.7531 - loss: 0.6731\n",
      "Epoch 56/60\n",
      "\u001b[1m182/182\u001b[0m \u001b[32m━━━━━━━━━━━━━━━━━━━━\u001b[0m\u001b[37m\u001b[0m \u001b[1m45s\u001b[0m 249ms/step - accuracy: 0.7562 - loss: 0.6665\n",
      "Epoch 57/60\n",
      "\u001b[1m182/182\u001b[0m \u001b[32m━━━━━━━━━━━━━━━━━━━━\u001b[0m\u001b[37m\u001b[0m \u001b[1m46s\u001b[0m 252ms/step - accuracy: 0.7584 - loss: 0.6647\n",
      "Epoch 58/60\n",
      "\u001b[1m182/182\u001b[0m \u001b[32m━━━━━━━━━━━━━━━━━━━━\u001b[0m\u001b[37m\u001b[0m \u001b[1m46s\u001b[0m 250ms/step - accuracy: 0.7619 - loss: 0.6515\n",
      "Epoch 59/60\n",
      "\u001b[1m182/182\u001b[0m \u001b[32m━━━━━━━━━━━━━━━━━━━━\u001b[0m\u001b[37m\u001b[0m \u001b[1m45s\u001b[0m 250ms/step - accuracy: 0.7635 - loss: 0.6509\n",
      "Epoch 60/60\n",
      "\u001b[1m182/182\u001b[0m \u001b[32m━━━━━━━━━━━━━━━━━━━━\u001b[0m\u001b[37m\u001b[0m \u001b[1m46s\u001b[0m 250ms/step - accuracy: 0.7678 - loss: 0.6319\n"
     ]
    },
    {
     "data": {
      "text/plain": [
       "<keras.src.callbacks.history.History at 0x287aca1c640>"
      ]
     },
     "execution_count": 28,
     "metadata": {},
     "output_type": "execute_result"
    }
   ],
   "source": [
    "# train model\n",
    "cnn.fit(x=train_images, y=train_labels, batch_size=256, epochs=60)"
   ]
  },
  {
   "cell_type": "code",
   "execution_count": 32,
   "metadata": {},
   "outputs": [
    {
     "data": {
      "text/plain": [
       "<matplotlib.legend.Legend at 0x287afd41b50>"
      ]
     },
     "execution_count": 32,
     "metadata": {},
     "output_type": "execute_result"
    },
    {
     "data": {
      "image/png": "[encoded data removed]",
      "text/plain": [
       "<Figure size 640x480 with 1 Axes>"
      ]
     },
     "metadata": {},
     "output_type": "display_data"
    }
   ],
   "source": [
    "# evaluate model\n",
    "plt.plot(cnn.history.history['accuracy'], label='accuracy', color='g')\n",
    "plt.plot(cnn.history.history['loss'], label = 'loss', color='r')\n",
    "plt.xlabel('Epoch')\n",
    "plt.ylabel('Accuracy')\n",
    "plt.ylim([0.5, 1])\n",
    "plt.legend(loc='lower right')"
   ]
  },
  {
   "cell_type": "code",
   "execution_count": 33,
   "metadata": {},
   "outputs": [
    {
     "name": "stdout",
     "output_type": "stream",
     "text": [
      "\u001b[1m380/380\u001b[0m \u001b[32m━━━━━━━━━━━━━━━━━━━━\u001b[0m\u001b[37m\u001b[0m \u001b[1m7s\u001b[0m 18ms/step\n"
     ]
    },
    {
     "data": {
      "text/plain": [
       "array([[1.6745086e-01, 5.1056255e-02, 2.2368728e-01, ..., 3.4695151e-01,\n",
       "        1.7361888e-01, 3.2699838e-02],\n",
       "       [1.6977161e-01, 4.3016672e-02, 3.3120665e-01, ..., 4.8002601e-02,\n",
       "        7.0494302e-02, 3.3658770e-01],\n",
       "       [3.5329111e-02, 1.1469645e-03, 6.6625524e-01, ..., 7.0869830e-03,\n",
       "        6.9351599e-02, 2.2030643e-01],\n",
       "       ...,\n",
       "       [1.1313897e-02, 2.2729564e-06, 6.3327089e-02, ..., 2.5595622e-02,\n",
       "        4.7951262e-03, 8.0941337e-01],\n",
       "       [2.7703322e-02, 4.1641809e-07, 4.7961972e-03, ..., 4.2948755e-03,\n",
       "        2.4327693e-04, 9.6295154e-01],\n",
       "       [3.3017743e-05, 5.6855071e-10, 2.9880583e-02, ..., 2.7831396e-07,\n",
       "        4.2372054e-07, 9.6930605e-01]], dtype=float32)"
      ]
     },
     "execution_count": 33,
     "metadata": {},
     "output_type": "execute_result"
    }
   ],
   "source": [
    "# predict\n",
    "predictions = cnn.predict(test_images)\n",
    "predictions"
   ]
  },
  {
   "cell_type": "code",
   "execution_count": 43,
   "metadata": {},
   "outputs": [
    {
     "data": {
      "text/plain": [
       "(12141, 7)"
      ]
     },
     "execution_count": 43,
     "metadata": {},
     "output_type": "execute_result"
    }
   ],
   "source": [
    "predictions.shape"
   ]
  },
  {
   "cell_type": "code",
   "execution_count": 40,
   "metadata": {},
   "outputs": [
    {
     "data": {
      "text/plain": [
       "array([0.16977161, 0.04301667, 0.33120665, 0.00092053, 0.0480026 ,\n",
       "       0.0704943 , 0.3365877 ], dtype=float32)"
      ]
     },
     "execution_count": 40,
     "metadata": {},
     "output_type": "execute_result"
    }
   ],
   "source": [
    "predictions[1]"
   ]
  },
  {
   "cell_type": "code",
   "execution_count": 46,
   "metadata": {},
   "outputs": [
    {
     "data": {
      "text/plain": [
       "array([[0., 0., 0., ..., 1., 0., 0.],\n",
       "       [0., 0., 0., ..., 0., 0., 1.],\n",
       "       [0., 0., 1., ..., 0., 0., 0.],\n",
       "       ...,\n",
       "       [0., 0., 0., ..., 0., 0., 1.],\n",
       "       [0., 0., 0., ..., 0., 0., 1.],\n",
       "       [0., 0., 0., ..., 0., 0., 1.]])"
      ]
     },
     "execution_count": 46,
     "metadata": {},
     "output_type": "execute_result"
    }
   ],
   "source": [
    "predicted_class_indices = np.argmax(predictions, axis=1)\n",
    "# Number of classes\n",
    "num_classes = predictions.shape[1]\n",
    "\n",
    "# Convert class indices to one-hot encoding\n",
    "predicted_one_hot = np.eye(num_classes)[predicted_class_indices]\n",
    "predicted_one_hot"
   ]
  },
  {
   "cell_type": "code",
   "execution_count": 47,
   "metadata": {},
   "outputs": [
    {
     "name": "stdout",
     "output_type": "stream",
     "text": [
      "              precision    recall  f1-score   support\n",
      "\n",
      "       angry       0.43      0.41      0.42      1733\n",
      "     disgust       0.64      0.66      0.65      1655\n",
      "        fear       0.45      0.29      0.35      1744\n",
      "       happy       0.79      0.80      0.80      1774\n",
      "     neutral       0.48      0.53      0.51      1758\n",
      "         sad       0.41      0.47      0.43      1758\n",
      "    surprise       0.68      0.74      0.71      1719\n",
      "\n",
      "   micro avg       0.56      0.56      0.56     12141\n",
      "   macro avg       0.55      0.56      0.55     12141\n",
      "weighted avg       0.55      0.56      0.55     12141\n",
      " samples avg       0.56      0.56      0.56     12141\n",
      "\n"
     ]
    }
   ],
   "source": [
    "from sklearn.metrics import classification_report\n",
    "print(classification_report(test_labels, predicted_one_hot, target_names=class_names))"
   ]
  },
  {
   "cell_type": "code",
   "execution_count": 49,
   "metadata": {},
   "outputs": [
    {
     "name": "stderr",
     "output_type": "stream",
     "text": [
      "WARNING:absl:You are saving your model as an HDF5 file via `model.save()` or `keras.saving.save_model(model)`. This file format is considered legacy. We recommend using instead the native Keras format, e.g. `model.save('my_model.keras')` or `keras.saving.save_model(model, 'my_model.keras')`. \n"
     ]
    }
   ],
   "source": [
    "# save model\n",
    "cnn.save('models/cnn.h5')"
   ]
  }
 ],
 "metadata": {
  "kernelspec": {
   "display_name": "base",
   "language": "python",
   "name": "python3"
  },
  "language_info": {
   "codemirror_mode": {
    "name": "ipython",
    "version": 3
   },
   "file_extension": ".py",
   "mimetype": "text/x-python",
   "name": "python",
   "nbconvert_exporter": "python",
   "pygments_lexer": "ipython3",
   "version": "3.9.13"
  }
 },
 "nbformat": 4,
 "nbformat_minor": 2
}
