{
 "cells": [
  {
   "cell_type": "code",
   "execution_count": 1,
   "metadata": {},
   "outputs": [],
   "source": [
    "# data augmentation\n",
    "import os\n",
    "import numpy as np\n",
    "import scipy\n",
    "from keras.preprocessing.image import ImageDataGenerator\n",
    "from tensorflow.keras.utils import to_categorical, img_to_array, load_img\n"
   ]
  },
  {
   "cell_type": "code",
   "execution_count": 2,
   "metadata": {},
   "outputs": [],
   "source": [
    "train_dir = 'data/train'\n",
    "test_dir = 'data/test'"
   ]
  },
  {
   "cell_type": "code",
   "execution_count": 3,
   "metadata": {},
   "outputs": [],
   "source": [
    "# LOAD IMAGES AND lABELS\n",
    "\n",
    "# Function to load images and labels from directory\n",
    "def load_images_from_directory(directory):\n",
    "    images = []\n",
    "    labels = []\n",
    "    label_map = {folder: idx for idx, folder in enumerate(os.listdir(directory))}\n",
    "    for label, idx in label_map.items():\n",
    "        class_dir = os.path.join(directory, label)\n",
    "        for img_name in os.listdir(class_dir):\n",
    "            img_path = os.path.join(class_dir, img_name)\n",
    "            img = load_img(img_path, target_size=(48, 48))  # Adjust target size as needed\n",
    "            img = img_to_array(img)\n",
    "            images.append(img)\n",
    "            labels.append(idx)\n",
    "    images = np.array(images)\n",
    "    labels = to_categorical(labels, num_classes=len(label_map))\n",
    "    return images, labels, label_map\n",
    "\n",
    "# Load training data\n",
    "X_train, y_train, label_map = load_images_from_directory(train_dir)\n",
    "\n",
    "# Load test data\n",
    "X_test, y_test, _ = load_images_from_directory(test_dir)"
   ]
  },
  {
   "cell_type": "code",
   "execution_count": 4,
   "metadata": {},
   "outputs": [
    {
     "data": {
      "text/plain": [
       "(28709, 48, 48, 3)"
      ]
     },
     "execution_count": 4,
     "metadata": {},
     "output_type": "execute_result"
    }
   ],
   "source": [
    "X_train = X_train.astype('float32')\n",
    "X_train.shape"
   ]
  },
  {
   "cell_type": "code",
   "execution_count": 5,
   "metadata": {},
   "outputs": [
    {
     "data": {
      "text/plain": [
       "array([[1., 0., 0., ..., 0., 0., 0.],\n",
       "       [1., 0., 0., ..., 0., 0., 0.],\n",
       "       [1., 0., 0., ..., 0., 0., 0.],\n",
       "       ...,\n",
       "       [0., 0., 0., ..., 0., 0., 1.],\n",
       "       [0., 0., 0., ..., 0., 0., 1.],\n",
       "       [0., 0., 0., ..., 0., 0., 1.]], dtype=float32)"
      ]
     },
     "execution_count": 5,
     "metadata": {},
     "output_type": "execute_result"
    }
   ],
   "source": [
    "y_train"
   ]
  },
  {
   "cell_type": "code",
   "execution_count": 6,
   "metadata": {},
   "outputs": [
    {
     "data": {
      "text/plain": [
       "{'angry': 0,\n",
       " 'disgust': 1,\n",
       " 'fear': 2,\n",
       " 'happy': 3,\n",
       " 'neutral': 4,\n",
       " 'sad': 5,\n",
       " 'surprise': 6}"
      ]
     },
     "execution_count": 6,
     "metadata": {},
     "output_type": "execute_result"
    }
   ],
   "source": [
    "label_map"
   ]
  },
  {
   "cell_type": "code",
   "execution_count": 7,
   "metadata": {},
   "outputs": [
    {
     "data": {
      "text/html": [
       "<div>\n",
       "<style scoped>\n",
       "    .dataframe tbody tr th:only-of-type {\n",
       "        vertical-align: middle;\n",
       "    }\n",
       "\n",
       "    .dataframe tbody tr th {\n",
       "        vertical-align: top;\n",
       "    }\n",
       "\n",
       "    .dataframe thead th {\n",
       "        text-align: right;\n",
       "    }\n",
       "</style>\n",
       "<table border=\"1\" class=\"dataframe\">\n",
       "  <thead>\n",
       "    <tr style=\"text-align: right;\">\n",
       "      <th></th>\n",
       "      <th>emotion</th>\n",
       "    </tr>\n",
       "  </thead>\n",
       "  <tbody>\n",
       "    <tr>\n",
       "      <th>0</th>\n",
       "      <td>angry</td>\n",
       "    </tr>\n",
       "    <tr>\n",
       "      <th>1</th>\n",
       "      <td>angry</td>\n",
       "    </tr>\n",
       "    <tr>\n",
       "      <th>2</th>\n",
       "      <td>angry</td>\n",
       "    </tr>\n",
       "    <tr>\n",
       "      <th>3</th>\n",
       "      <td>angry</td>\n",
       "    </tr>\n",
       "    <tr>\n",
       "      <th>4</th>\n",
       "      <td>angry</td>\n",
       "    </tr>\n",
       "    <tr>\n",
       "      <th>...</th>\n",
       "      <td>...</td>\n",
       "    </tr>\n",
       "    <tr>\n",
       "      <th>28704</th>\n",
       "      <td>surprise</td>\n",
       "    </tr>\n",
       "    <tr>\n",
       "      <th>28705</th>\n",
       "      <td>surprise</td>\n",
       "    </tr>\n",
       "    <tr>\n",
       "      <th>28706</th>\n",
       "      <td>surprise</td>\n",
       "    </tr>\n",
       "    <tr>\n",
       "      <th>28707</th>\n",
       "      <td>surprise</td>\n",
       "    </tr>\n",
       "    <tr>\n",
       "      <th>28708</th>\n",
       "      <td>surprise</td>\n",
       "    </tr>\n",
       "  </tbody>\n",
       "</table>\n",
       "<p>28709 rows × 1 columns</p>\n",
       "</div>"
      ],
      "text/plain": [
       "        emotion\n",
       "0         angry\n",
       "1         angry\n",
       "2         angry\n",
       "3         angry\n",
       "4         angry\n",
       "...         ...\n",
       "28704  surprise\n",
       "28705  surprise\n",
       "28706  surprise\n",
       "28707  surprise\n",
       "28708  surprise\n",
       "\n",
       "[28709 rows x 1 columns]"
      ]
     },
     "execution_count": 7,
     "metadata": {},
     "output_type": "execute_result"
    }
   ],
   "source": [
    "import pandas as pd\n",
    "\n",
    "labels = [label for label, idx in label_map.items() for _ in range(len(os.listdir(os.path.join(train_dir, label))))]\n",
    "df = pd.DataFrame({'emotion': labels})\n",
    "df"
   ]
  },
  {
   "cell_type": "code",
   "execution_count": 8,
   "metadata": {},
   "outputs": [],
   "source": [
    "# Define the output directory for augmented images\n",
    "output_dir = 'data/preview_train'"
   ]
  },
  {
   "cell_type": "code",
   "execution_count": 9,
   "metadata": {},
   "outputs": [],
   "source": [
    "\n",
    "def data_augmentation(X, y, df, output_dir, target_count=None):\n",
    "    # Create an ImageDataGenerator object\n",
    "    datagen = ImageDataGenerator(\n",
    "        rotation_range=40,\n",
    "        width_shift_range=0.2,\n",
    "        height_shift_range=0.2,\n",
    "        zoom_range=0.2,\n",
    "        brightness_range=(0.95, 1.05),\n",
    "        horizontal_flip=True,\n",
    "        vertical_flip=False,\n",
    "        fill_mode='nearest'\n",
    "    )\n",
    "\n",
    "    # Create a balanced dataset\n",
    "    balanced_X = []\n",
    "    balanced_y = []\n",
    "    # Set the target count to the maximum number of images in a class if not provided\n",
    "    target_count = target_count if target_count else max(df['emotion'].value_counts())\n",
    "\n",
    "    distribution = []\n",
    "\n",
    "    # Loop through each class\n",
    "    for class_label in df['emotion'].unique():\n",
    "        class_index = label_map[class_label]  # Get the index for the class label\n",
    "        class_indices = np.where(y[:, class_index] == 1)[0]\n",
    "        class_images = X[class_indices]\n",
    "        class_labels = y[class_indices]\n",
    "        num_images = class_images.shape[0]\n",
    "        distribution.append(num_images)\n",
    "\n",
    "        augmentations_needed = target_count - num_images\n",
    "\n",
    "        # Create a directory for each class to save augmented images\n",
    "        class_output_dir = os.path.join(output_dir, str(class_label))\n",
    "        os.makedirs(class_output_dir, exist_ok=True)\n",
    "\n",
    "        while augmentations_needed > 0:\n",
    "            for img, label in zip(class_images, class_labels):\n",
    "                if augmentations_needed <= 0:\n",
    "                    break\n",
    "                img = img.reshape((1,) + img.shape)\n",
    "                augmented_img = next(datagen.flow(img, batch_size=1, save_to_dir=class_output_dir, save_prefix='aug', save_format='jpeg'))\n",
    "                balanced_X.append(augmented_img.squeeze())\n",
    "                balanced_y.append(label)\n",
    "                augmentations_needed -= 1\n",
    "\n",
    "        balanced_X.extend(class_images)\n",
    "        balanced_y.extend(class_labels)\n",
    "\n",
    "    balanced_X = np.array(balanced_X)\n",
    "    balanced_y = np.array(balanced_y)\n",
    "\n",
    "    return balanced_X, balanced_y, distribution\n"
   ]
  },
  {
   "cell_type": "code",
   "execution_count": 10,
   "metadata": {},
   "outputs": [
    {
     "name": "stdout",
     "output_type": "stream",
     "text": [
      "Balanced X_train shape: (50505, 48, 48, 3)\n",
      "Balanced y_train shape: (50505, 7)\n",
      "Class distribution: [3995, 436, 4097, 7215, 4965, 4830, 3171]\n"
     ]
    }
   ],
   "source": [
    "# Balance and save the augmented training data\n",
    "balanced_X_train, balanced_y_train, distribution = data_augmentation(X_train, y_train, df, output_dir)\n",
    "\n",
    "print(f'Balanced X_train shape: {balanced_X_train.shape}')\n",
    "print(f'Balanced y_train shape: {balanced_y_train.shape}')\n",
    "print(f'Class distribution: {distribution}')"
   ]
  },
  {
   "cell_type": "code",
   "execution_count": 11,
   "metadata": {},
   "outputs": [
    {
     "data": {
      "text/html": [
       "<div>\n",
       "<style scoped>\n",
       "    .dataframe tbody tr th:only-of-type {\n",
       "        vertical-align: middle;\n",
       "    }\n",
       "\n",
       "    .dataframe tbody tr th {\n",
       "        vertical-align: top;\n",
       "    }\n",
       "\n",
       "    .dataframe thead th {\n",
       "        text-align: right;\n",
       "    }\n",
       "</style>\n",
       "<table border=\"1\" class=\"dataframe\">\n",
       "  <thead>\n",
       "    <tr style=\"text-align: right;\">\n",
       "      <th></th>\n",
       "      <th>emotion</th>\n",
       "    </tr>\n",
       "  </thead>\n",
       "  <tbody>\n",
       "    <tr>\n",
       "      <th>0</th>\n",
       "      <td>angry</td>\n",
       "    </tr>\n",
       "    <tr>\n",
       "      <th>1</th>\n",
       "      <td>angry</td>\n",
       "    </tr>\n",
       "    <tr>\n",
       "      <th>2</th>\n",
       "      <td>angry</td>\n",
       "    </tr>\n",
       "    <tr>\n",
       "      <th>3</th>\n",
       "      <td>angry</td>\n",
       "    </tr>\n",
       "    <tr>\n",
       "      <th>4</th>\n",
       "      <td>angry</td>\n",
       "    </tr>\n",
       "    <tr>\n",
       "      <th>...</th>\n",
       "      <td>...</td>\n",
       "    </tr>\n",
       "    <tr>\n",
       "      <th>7173</th>\n",
       "      <td>surprise</td>\n",
       "    </tr>\n",
       "    <tr>\n",
       "      <th>7174</th>\n",
       "      <td>surprise</td>\n",
       "    </tr>\n",
       "    <tr>\n",
       "      <th>7175</th>\n",
       "      <td>surprise</td>\n",
       "    </tr>\n",
       "    <tr>\n",
       "      <th>7176</th>\n",
       "      <td>surprise</td>\n",
       "    </tr>\n",
       "    <tr>\n",
       "      <th>7177</th>\n",
       "      <td>surprise</td>\n",
       "    </tr>\n",
       "  </tbody>\n",
       "</table>\n",
       "<p>7178 rows × 1 columns</p>\n",
       "</div>"
      ],
      "text/plain": [
       "       emotion\n",
       "0        angry\n",
       "1        angry\n",
       "2        angry\n",
       "3        angry\n",
       "4        angry\n",
       "...        ...\n",
       "7173  surprise\n",
       "7174  surprise\n",
       "7175  surprise\n",
       "7176  surprise\n",
       "7177  surprise\n",
       "\n",
       "[7178 rows x 1 columns]"
      ]
     },
     "execution_count": 11,
     "metadata": {},
     "output_type": "execute_result"
    }
   ],
   "source": [
    "labels = [label for label, idx in label_map.items() for _ in range(len(os.listdir(os.path.join(test_dir, label))))]\n",
    "df = pd.DataFrame({'emotion': labels})\n",
    "df"
   ]
  },
  {
   "cell_type": "code",
   "execution_count": 12,
   "metadata": {},
   "outputs": [],
   "source": [
    "output_dir = 'data/preview_test'\n",
    "balanced_X_test, balanced_y_test, distribution = data_augmentation(X_test, y_test, df, output_dir)"
   ]
  },
  {
   "cell_type": "code",
   "execution_count": 13,
   "metadata": {},
   "outputs": [
    {
     "name": "stdout",
     "output_type": "stream",
     "text": [
      "Balanced X_test shape: (12418, 48, 48, 3)\n",
      "Balanced y_test shape: (12418, 7)\n",
      "Class distribution: [958, 111, 1024, 1774, 1233, 1247, 831]\n"
     ]
    }
   ],
   "source": [
    "print(f'Balanced X_test shape: {balanced_X_test.shape}')\n",
    "print(f'Balanced y_test shape: {balanced_y_test.shape}')\n",
    "print(f'Class distribution: {distribution}')"
   ]
  },
  {
   "cell_type": "code",
   "execution_count": 15,
   "metadata": {},
   "outputs": [
    {
     "data": {
      "text/plain": [
       "(12418, 7)"
      ]
     },
     "execution_count": 15,
     "metadata": {},
     "output_type": "execute_result"
    }
   ],
   "source": []
  },
  {
   "cell_type": "code",
   "execution_count": null,
   "metadata": {},
   "outputs": [],
   "source": []
  }
 ],
 "metadata": {
  "kernelspec": {
   "display_name": "base",
   "language": "python",
   "name": "python3"
  },
  "language_info": {
   "codemirror_mode": {
    "name": "ipython",
    "version": 3
   },
   "file_extension": ".py",
   "mimetype": "text/x-python",
   "name": "python",
   "nbconvert_exporter": "python",
   "pygments_lexer": "ipython3",
   "version": "3.9.5"
  }
 },
 "nbformat": 4,
 "nbformat_minor": 2
}
